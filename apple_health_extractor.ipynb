{
 "cells": [
  {
   "cell_type": "markdown",
   "metadata": {},
   "source": [
    "# Apple Health Extractor"
   ]
  },
  {
   "cell_type": "markdown",
   "metadata": {},
   "source": [
    "This code will parse your Apple Health export data, create multiple CSV and do some simple data checks and data analysis. \n"
   ]
  },
  {
   "cell_type": "markdown",
   "metadata": {},
   "source": [
    "--------"
   ]
  },
  {
   "cell_type": "markdown",
   "metadata": {},
   "source": [
    "## Extract Data and Export to CSVs from Apple Health's Export.xml"
   ]
  },
  {
   "cell_type": "markdown",
   "metadata": {},
   "source": [
    "* Command Line Tool to Process apple health's export.xml file \n",
    "* Create multiple CSV files for each data type. \n",
    "* Original Source: https://github.com/tdda/applehealthdata\n",
    "* Based on the size of your Apple Health Data, this script may take several minutes to complete.\n",
    "\n",
    "**NOTE: Currently there are a few minror errors based on additional data from Apple Health that require some updates.** "
   ]
  },
  {
   "cell_type": "markdown",
   "metadata": {},
   "source": [
    "## Setup and Usage NOTE\n",
    "\n",
    "* Export your data from Apple Health App on your phone. \n",
    "* Unzip export.zip into this directory and rename to data. \n",
    "* Inside your directory there should be a directory and file here: /data/export.xml\n",
    "* Run inside project or in the command line."
   ]
  },
  {
   "cell_type": "code",
   "execution_count": 3,
   "metadata": {},
   "outputs": [
    {
     "name": "stdout",
     "output_type": "stream",
     "text": [
      "Reading data from data/export.xml . . . done\n",
      "Unexpected node of type ExportDate.\n",
      "\n",
      "Tags:\n",
      "ActivitySummary: 553\n",
      "ExportDate: 1\n",
      "Me: 1\n",
      "Record: 989147\n",
      "Workout: 1358\n",
      "\n",
      "Fields:\n",
      "HKCharacteristicTypeIdentifierBiologicalSex: 1\n",
      "HKCharacteristicTypeIdentifierBloodType: 1\n",
      "HKCharacteristicTypeIdentifierCardioFitnessMedicationsUse: 1\n",
      "HKCharacteristicTypeIdentifierDateOfBirth: 1\n",
      "HKCharacteristicTypeIdentifierFitzpatrickSkinType: 1\n",
      "activeEnergyBurned: 553\n",
      "activeEnergyBurnedGoal: 553\n",
      "activeEnergyBurnedUnit: 553\n",
      "appleExerciseTime: 553\n",
      "appleExerciseTimeGoal: 553\n",
      "appleMoveTime: 553\n",
      "appleMoveTimeGoal: 553\n",
      "appleStandHours: 553\n",
      "appleStandHoursGoal: 553\n",
      "creationDate: 990505\n",
      "dateComponents: 553\n",
      "device: 967905\n",
      "duration: 1358\n",
      "durationUnit: 1358\n",
      "endDate: 990505\n",
      "sourceName: 990505\n",
      "sourceVersion: 980027\n",
      "startDate: 990505\n",
      "totalDistance: 1358\n",
      "totalDistanceUnit: 1358\n",
      "totalEnergyBurned: 1358\n",
      "totalEnergyBurnedUnit: 1358\n",
      "type: 989147\n",
      "unit: 982920\n",
      "value: 989119\n",
      "workoutActivityType: 1358\n",
      "\n",
      "Record types:\n",
      "ActiveEnergyBurned: 382415\n",
      "AppleExerciseTime: 28822\n",
      "AppleStandHour: 6040\n",
      "AppleStandTime: 21580\n",
      "AudioExposureEvent: 76\n",
      "BasalEnergyBurned: 258981\n",
      "BodyMass: 1\n",
      "DistanceWalkingRunning: 50523\n",
      "EnvironmentalAudioExposure: 14450\n",
      "FlightsClimbed: 2370\n",
      "HKDataTypeSleepDurationGoal: 1\n",
      "HeadphoneAudioExposure: 2336\n",
      "HeartRate: 171534\n",
      "HeartRateVariabilitySDNN: 1163\n",
      "Height: 1\n",
      "HighHeartRateEvent: 1\n",
      "MindfulSession: 28\n",
      "RestingHeartRate: 436\n",
      "SixMinuteWalkTestDistance: 4\n",
      "SleepAnalysis: 82\n",
      "StepCount: 41097\n",
      "VO2Max: 35\n",
      "WalkingAsymmetryPercentage: 1028\n",
      "WalkingDoubleSupportPercentage: 1532\n",
      "WalkingHeartRateAverage: 438\n",
      "WalkingSpeed: 2085\n",
      "WalkingStepLength: 2088\n",
      "\n",
      "Opening C:\\Users\\sesha\\Downloads\\qs_ledger-master\\qs_ledger-master\\apple_health\\data\\Height.csv for writing\n",
      "Opening C:\\Users\\sesha\\Downloads\\qs_ledger-master\\qs_ledger-master\\apple_health\\data\\BodyMass.csv for writing\n",
      "Opening C:\\Users\\sesha\\Downloads\\qs_ledger-master\\qs_ledger-master\\apple_health\\data\\HeartRate.csv for writing\n",
      "Opening C:\\Users\\sesha\\Downloads\\qs_ledger-master\\qs_ledger-master\\apple_health\\data\\StepCount.csv for writing\n",
      "Opening C:\\Users\\sesha\\Downloads\\qs_ledger-master\\qs_ledger-master\\apple_health\\data\\DistanceWalkingRunning.csv for writing\n",
      "Opening C:\\Users\\sesha\\Downloads\\qs_ledger-master\\qs_ledger-master\\apple_health\\data\\BasalEnergyBurned.csv for writing\n",
      "Opening C:\\Users\\sesha\\Downloads\\qs_ledger-master\\qs_ledger-master\\apple_health\\data\\ActiveEnergyBurned.csv for writing\n",
      "Opening C:\\Users\\sesha\\Downloads\\qs_ledger-master\\qs_ledger-master\\apple_health\\data\\FlightsClimbed.csv for writing\n",
      "Opening C:\\Users\\sesha\\Downloads\\qs_ledger-master\\qs_ledger-master\\apple_health\\data\\AppleExerciseTime.csv for writing\n",
      "Opening C:\\Users\\sesha\\Downloads\\qs_ledger-master\\qs_ledger-master\\apple_health\\data\\RestingHeartRate.csv for writing\n",
      "Opening C:\\Users\\sesha\\Downloads\\qs_ledger-master\\qs_ledger-master\\apple_health\\data\\VO2Max.csv for writing\n",
      "Opening C:\\Users\\sesha\\Downloads\\qs_ledger-master\\qs_ledger-master\\apple_health\\data\\WalkingHeartRateAverage.csv for writing\n",
      "Opening C:\\Users\\sesha\\Downloads\\qs_ledger-master\\qs_ledger-master\\apple_health\\data\\EnvironmentalAudioExposure.csv for writing\n",
      "Opening C:\\Users\\sesha\\Downloads\\qs_ledger-master\\qs_ledger-master\\apple_health\\data\\HeadphoneAudioExposure.csv for writing\n",
      "Opening C:\\Users\\sesha\\Downloads\\qs_ledger-master\\qs_ledger-master\\apple_health\\data\\WalkingDoubleSupportPercentage.csv for writing\n",
      "Opening C:\\Users\\sesha\\Downloads\\qs_ledger-master\\qs_ledger-master\\apple_health\\data\\SixMinuteWalkTestDistance.csv for writing\n",
      "Opening C:\\Users\\sesha\\Downloads\\qs_ledger-master\\qs_ledger-master\\apple_health\\data\\AppleStandTime.csv for writing\n",
      "Opening C:\\Users\\sesha\\Downloads\\qs_ledger-master\\qs_ledger-master\\apple_health\\data\\WalkingSpeed.csv for writing\n",
      "Opening C:\\Users\\sesha\\Downloads\\qs_ledger-master\\qs_ledger-master\\apple_health\\data\\WalkingStepLength.csv for writing\n",
      "Opening C:\\Users\\sesha\\Downloads\\qs_ledger-master\\qs_ledger-master\\apple_health\\data\\WalkingAsymmetryPercentage.csv for writing\n",
      "Opening C:\\Users\\sesha\\Downloads\\qs_ledger-master\\qs_ledger-master\\apple_health\\data\\HKDataTypeSleepDurationGoal.csv for writing\n",
      "Opening C:\\Users\\sesha\\Downloads\\qs_ledger-master\\qs_ledger-master\\apple_health\\data\\SleepAnalysis.csv for writing\n",
      "Opening C:\\Users\\sesha\\Downloads\\qs_ledger-master\\qs_ledger-master\\apple_health\\data\\AppleStandHour.csv for writing\n",
      "Opening C:\\Users\\sesha\\Downloads\\qs_ledger-master\\qs_ledger-master\\apple_health\\data\\MindfulSession.csv for writing\n",
      "Opening C:\\Users\\sesha\\Downloads\\qs_ledger-master\\qs_ledger-master\\apple_health\\data\\HighHeartRateEvent.csv for writing\n",
      "Opening C:\\Users\\sesha\\Downloads\\qs_ledger-master\\qs_ledger-master\\apple_health\\data\\AudioExposureEvent.csv for writing\n",
      "Opening C:\\Users\\sesha\\Downloads\\qs_ledger-master\\qs_ledger-master\\apple_health\\data\\HeartRateVariabilitySDNN.csv for writing\n",
      "Opening C:\\Users\\sesha\\Downloads\\qs_ledger-master\\qs_ledger-master\\apple_health\\data\\Workout.csv for writing\n",
      "Opening C:\\Users\\sesha\\Downloads\\qs_ledger-master\\qs_ledger-master\\apple_health\\data\\ActivitySummary.csv for writing\n",
      "Written Height data.\n",
      "Written BodyMass data.\n",
      "Written HeartRate data.\n",
      "Written StepCount data.\n",
      "Written DistanceWalkingRunning data.\n",
      "Written BasalEnergyBurned data.\n",
      "Written ActiveEnergyBurned data.\n",
      "Written FlightsClimbed data.\n",
      "Written AppleExerciseTime data.\n",
      "Written RestingHeartRate data.\n",
      "Written VO2Max data.\n",
      "Written WalkingHeartRateAverage data.\n",
      "Written EnvironmentalAudioExposure data.\n",
      "Written HeadphoneAudioExposure data.\n",
      "Written WalkingDoubleSupportPercentage data.\n",
      "Written SixMinuteWalkTestDistance data.\n",
      "Written AppleStandTime data.\n",
      "Written WalkingSpeed data.\n",
      "Written WalkingStepLength data.\n",
      "Written WalkingAsymmetryPercentage data.\n",
      "Written HKDataTypeSleepDurationGoal data.\n",
      "Written SleepAnalysis data.\n",
      "Written AppleStandHour data.\n",
      "Written MindfulSession data.\n",
      "Written HighHeartRateEvent data.\n",
      "Written AudioExposureEvent data.\n",
      "Written HeartRateVariabilitySDNN data.\n",
      "Written Workout data.\n",
      "Written ActivitySummary data.\n"
     ]
    }
   ],
   "source": [
    "# %run -i 'apple-health-data-parser' 'export.xml' \n",
    "%run -i \"apple-health-data-parser\" \"data/export.xml\" "
   ]
  },
  {
   "cell_type": "markdown",
   "metadata": {},
   "source": [
    "-----"
   ]
  },
  {
   "cell_type": "markdown",
   "metadata": {},
   "source": [
    "# Apple Health Data Check and Simple Data Analysis"
   ]
  },
  {
   "cell_type": "code",
   "execution_count": 5,
   "metadata": {},
   "outputs": [],
   "source": [
    "import numpy as np\n",
    "import pandas as pd\n",
    "import glob"
   ]
  },
  {
   "cell_type": "markdown",
   "metadata": {},
   "source": [
    "----"
   ]
  },
  {
   "cell_type": "markdown",
   "metadata": {},
   "source": [
    "# Weight"
   ]
  },
  {
   "cell_type": "code",
   "execution_count": 6,
   "metadata": {},
   "outputs": [],
   "source": [
    "weight = pd.read_csv(\"data/BodyMass.csv\")"
   ]
  },
  {
   "cell_type": "code",
   "execution_count": 7,
   "metadata": {},
   "outputs": [
    {
     "data": {
      "text/html": [
       "<div>\n",
       "<style scoped>\n",
       "    .dataframe tbody tr th:only-of-type {\n",
       "        vertical-align: middle;\n",
       "    }\n",
       "\n",
       "    .dataframe tbody tr th {\n",
       "        vertical-align: top;\n",
       "    }\n",
       "\n",
       "    .dataframe thead th {\n",
       "        text-align: right;\n",
       "    }\n",
       "</style>\n",
       "<table border=\"1\" class=\"dataframe\">\n",
       "  <thead>\n",
       "    <tr style=\"text-align: right;\">\n",
       "      <th></th>\n",
       "      <th>sourceName</th>\n",
       "      <th>sourceVersion</th>\n",
       "      <th>device</th>\n",
       "      <th>type</th>\n",
       "      <th>unit</th>\n",
       "      <th>creationDate</th>\n",
       "      <th>startDate</th>\n",
       "      <th>endDate</th>\n",
       "      <th>value</th>\n",
       "    </tr>\n",
       "  </thead>\n",
       "  <tbody>\n",
       "    <tr>\n",
       "      <th>0</th>\n",
       "      <td>Health</td>\n",
       "      <td>13.1.3</td>\n",
       "      <td>NaN</td>\n",
       "      <td>BodyMass</td>\n",
       "      <td>kg</td>\n",
       "      <td>2019-10-19 02:50:14 +0530</td>\n",
       "      <td>2019-10-19 02:50:14 +0530</td>\n",
       "      <td>2019-10-19 02:50:14 +0530</td>\n",
       "      <td>75</td>\n",
       "    </tr>\n",
       "  </tbody>\n",
       "</table>\n",
       "</div>"
      ],
      "text/plain": [
       "  sourceName sourceVersion  device      type unit               creationDate  \\\n",
       "0     Health        13.1.3     NaN  BodyMass   kg  2019-10-19 02:50:14 +0530   \n",
       "\n",
       "                   startDate                    endDate  value  \n",
       "0  2019-10-19 02:50:14 +0530  2019-10-19 02:50:14 +0530     75  "
      ]
     },
     "execution_count": 7,
     "metadata": {},
     "output_type": "execute_result"
    }
   ],
   "source": [
    "weight.tail()"
   ]
  },
  {
   "cell_type": "code",
   "execution_count": 8,
   "metadata": {},
   "outputs": [
    {
     "data": {
      "text/html": [
       "<div>\n",
       "<style scoped>\n",
       "    .dataframe tbody tr th:only-of-type {\n",
       "        vertical-align: middle;\n",
       "    }\n",
       "\n",
       "    .dataframe tbody tr th {\n",
       "        vertical-align: top;\n",
       "    }\n",
       "\n",
       "    .dataframe thead th {\n",
       "        text-align: right;\n",
       "    }\n",
       "</style>\n",
       "<table border=\"1\" class=\"dataframe\">\n",
       "  <thead>\n",
       "    <tr style=\"text-align: right;\">\n",
       "      <th></th>\n",
       "      <th>device</th>\n",
       "      <th>value</th>\n",
       "    </tr>\n",
       "  </thead>\n",
       "  <tbody>\n",
       "    <tr>\n",
       "      <th>count</th>\n",
       "      <td>0.0</td>\n",
       "      <td>1.0</td>\n",
       "    </tr>\n",
       "    <tr>\n",
       "      <th>mean</th>\n",
       "      <td>NaN</td>\n",
       "      <td>75.0</td>\n",
       "    </tr>\n",
       "    <tr>\n",
       "      <th>std</th>\n",
       "      <td>NaN</td>\n",
       "      <td>NaN</td>\n",
       "    </tr>\n",
       "    <tr>\n",
       "      <th>min</th>\n",
       "      <td>NaN</td>\n",
       "      <td>75.0</td>\n",
       "    </tr>\n",
       "    <tr>\n",
       "      <th>25%</th>\n",
       "      <td>NaN</td>\n",
       "      <td>75.0</td>\n",
       "    </tr>\n",
       "    <tr>\n",
       "      <th>50%</th>\n",
       "      <td>NaN</td>\n",
       "      <td>75.0</td>\n",
       "    </tr>\n",
       "    <tr>\n",
       "      <th>75%</th>\n",
       "      <td>NaN</td>\n",
       "      <td>75.0</td>\n",
       "    </tr>\n",
       "    <tr>\n",
       "      <th>max</th>\n",
       "      <td>NaN</td>\n",
       "      <td>75.0</td>\n",
       "    </tr>\n",
       "  </tbody>\n",
       "</table>\n",
       "</div>"
      ],
      "text/plain": [
       "       device  value\n",
       "count     0.0    1.0\n",
       "mean      NaN   75.0\n",
       "std       NaN    NaN\n",
       "min       NaN   75.0\n",
       "25%       NaN   75.0\n",
       "50%       NaN   75.0\n",
       "75%       NaN   75.0\n",
       "max       NaN   75.0"
      ]
     },
     "execution_count": 8,
     "metadata": {},
     "output_type": "execute_result"
    }
   ],
   "source": [
    "weight.describe()"
   ]
  },
  {
   "cell_type": "markdown",
   "metadata": {},
   "source": [
    "----"
   ]
  },
  {
   "cell_type": "markdown",
   "metadata": {},
   "source": [
    "## Steps"
   ]
  },
  {
   "cell_type": "code",
   "execution_count": 9,
   "metadata": {},
   "outputs": [],
   "source": [
    "steps = pd.read_csv(\"data/StepCount.csv\")"
   ]
  },
  {
   "cell_type": "code",
   "execution_count": 10,
   "metadata": {},
   "outputs": [
    {
     "data": {
      "text/plain": [
       "41097"
      ]
     },
     "execution_count": 10,
     "metadata": {},
     "output_type": "execute_result"
    }
   ],
   "source": [
    "len(steps)"
   ]
  },
  {
   "cell_type": "code",
   "execution_count": 11,
   "metadata": {},
   "outputs": [
    {
     "data": {
      "text/plain": [
       "Index(['sourceName', 'sourceVersion', 'device', 'type', 'unit', 'creationDate',\n",
       "       'startDate', 'endDate', 'value'],\n",
       "      dtype='object')"
      ]
     },
     "execution_count": 11,
     "metadata": {},
     "output_type": "execute_result"
    }
   ],
   "source": [
    "steps.columns"
   ]
  },
  {
   "cell_type": "code",
   "execution_count": 12,
   "metadata": {},
   "outputs": [
    {
     "data": {
      "text/html": [
       "<div>\n",
       "<style scoped>\n",
       "    .dataframe tbody tr th:only-of-type {\n",
       "        vertical-align: middle;\n",
       "    }\n",
       "\n",
       "    .dataframe tbody tr th {\n",
       "        vertical-align: top;\n",
       "    }\n",
       "\n",
       "    .dataframe thead th {\n",
       "        text-align: right;\n",
       "    }\n",
       "</style>\n",
       "<table border=\"1\" class=\"dataframe\">\n",
       "  <thead>\n",
       "    <tr style=\"text-align: right;\">\n",
       "      <th></th>\n",
       "      <th>value</th>\n",
       "    </tr>\n",
       "  </thead>\n",
       "  <tbody>\n",
       "    <tr>\n",
       "      <th>count</th>\n",
       "      <td>41097.000000</td>\n",
       "    </tr>\n",
       "    <tr>\n",
       "      <th>mean</th>\n",
       "      <td>78.535441</td>\n",
       "    </tr>\n",
       "    <tr>\n",
       "      <th>std</th>\n",
       "      <td>147.717801</td>\n",
       "    </tr>\n",
       "    <tr>\n",
       "      <th>min</th>\n",
       "      <td>1.000000</td>\n",
       "    </tr>\n",
       "    <tr>\n",
       "      <th>25%</th>\n",
       "      <td>12.000000</td>\n",
       "    </tr>\n",
       "    <tr>\n",
       "      <th>50%</th>\n",
       "      <td>27.000000</td>\n",
       "    </tr>\n",
       "    <tr>\n",
       "      <th>75%</th>\n",
       "      <td>74.000000</td>\n",
       "    </tr>\n",
       "    <tr>\n",
       "      <th>max</th>\n",
       "      <td>1219.000000</td>\n",
       "    </tr>\n",
       "  </tbody>\n",
       "</table>\n",
       "</div>"
      ],
      "text/plain": [
       "              value\n",
       "count  41097.000000\n",
       "mean      78.535441\n",
       "std      147.717801\n",
       "min        1.000000\n",
       "25%       12.000000\n",
       "50%       27.000000\n",
       "75%       74.000000\n",
       "max     1219.000000"
      ]
     },
     "execution_count": 12,
     "metadata": {},
     "output_type": "execute_result"
    }
   ],
   "source": [
    "steps.describe()"
   ]
  },
  {
   "cell_type": "code",
   "execution_count": 13,
   "metadata": {},
   "outputs": [
    {
     "data": {
      "text/html": [
       "<div>\n",
       "<style scoped>\n",
       "    .dataframe tbody tr th:only-of-type {\n",
       "        vertical-align: middle;\n",
       "    }\n",
       "\n",
       "    .dataframe tbody tr th {\n",
       "        vertical-align: top;\n",
       "    }\n",
       "\n",
       "    .dataframe thead th {\n",
       "        text-align: right;\n",
       "    }\n",
       "</style>\n",
       "<table border=\"1\" class=\"dataframe\">\n",
       "  <thead>\n",
       "    <tr style=\"text-align: right;\">\n",
       "      <th></th>\n",
       "      <th>sourceName</th>\n",
       "      <th>sourceVersion</th>\n",
       "      <th>device</th>\n",
       "      <th>type</th>\n",
       "      <th>unit</th>\n",
       "      <th>creationDate</th>\n",
       "      <th>startDate</th>\n",
       "      <th>endDate</th>\n",
       "      <th>value</th>\n",
       "    </tr>\n",
       "  </thead>\n",
       "  <tbody>\n",
       "    <tr>\n",
       "      <th>41092</th>\n",
       "      <td>Seshathiri’s Apple Watch</td>\n",
       "      <td>7.4.1</td>\n",
       "      <td>&lt;&lt;HKDevice: 0x283877bb0&gt;, name:Apple Watch, ma...</td>\n",
       "      <td>StepCount</td>\n",
       "      <td>count</td>\n",
       "      <td>2021-05-23 20:06:53 +0530</td>\n",
       "      <td>2021-05-23 20:02:59 +0530</td>\n",
       "      <td>2021-05-23 20:03:57 +0530</td>\n",
       "      <td>106</td>\n",
       "    </tr>\n",
       "    <tr>\n",
       "      <th>41093</th>\n",
       "      <td>Seshathiri’s Apple Watch</td>\n",
       "      <td>7.4.1</td>\n",
       "      <td>&lt;&lt;HKDevice: 0x283877bb0&gt;, name:Apple Watch, ma...</td>\n",
       "      <td>StepCount</td>\n",
       "      <td>count</td>\n",
       "      <td>2021-05-23 20:06:53 +0530</td>\n",
       "      <td>2021-05-23 20:06:35 +0530</td>\n",
       "      <td>2021-05-23 20:06:51 +0530</td>\n",
       "      <td>33</td>\n",
       "    </tr>\n",
       "    <tr>\n",
       "      <th>41094</th>\n",
       "      <td>Seshathiri’s Apple Watch</td>\n",
       "      <td>7.4.1</td>\n",
       "      <td>&lt;&lt;HKDevice: 0x283877bb0&gt;, name:Apple Watch, ma...</td>\n",
       "      <td>StepCount</td>\n",
       "      <td>count</td>\n",
       "      <td>2021-05-23 20:16:58 +0530</td>\n",
       "      <td>2021-05-23 20:06:51 +0530</td>\n",
       "      <td>2021-05-23 20:16:25 +0530</td>\n",
       "      <td>185</td>\n",
       "    </tr>\n",
       "    <tr>\n",
       "      <th>41095</th>\n",
       "      <td>Seshathiri’s Apple Watch</td>\n",
       "      <td>7.4.1</td>\n",
       "      <td>&lt;&lt;HKDevice: 0x283877bb0&gt;, name:Apple Watch, ma...</td>\n",
       "      <td>StepCount</td>\n",
       "      <td>count</td>\n",
       "      <td>2021-05-23 20:32:37 +0530</td>\n",
       "      <td>2021-05-23 20:17:00 +0530</td>\n",
       "      <td>2021-05-23 20:25:58 +0530</td>\n",
       "      <td>108</td>\n",
       "    </tr>\n",
       "    <tr>\n",
       "      <th>41096</th>\n",
       "      <td>Seshathiri’s Apple Watch</td>\n",
       "      <td>7.4.1</td>\n",
       "      <td>&lt;&lt;HKDevice: 0x283877bb0&gt;, name:Apple Watch, ma...</td>\n",
       "      <td>StepCount</td>\n",
       "      <td>count</td>\n",
       "      <td>2021-05-23 20:47:01 +0530</td>\n",
       "      <td>2021-05-23 20:27:33 +0530</td>\n",
       "      <td>2021-05-23 20:36:56 +0530</td>\n",
       "      <td>75</td>\n",
       "    </tr>\n",
       "  </tbody>\n",
       "</table>\n",
       "</div>"
      ],
      "text/plain": [
       "                     sourceName sourceVersion  \\\n",
       "41092  Seshathiri’s Apple Watch         7.4.1   \n",
       "41093  Seshathiri’s Apple Watch         7.4.1   \n",
       "41094  Seshathiri’s Apple Watch         7.4.1   \n",
       "41095  Seshathiri’s Apple Watch         7.4.1   \n",
       "41096  Seshathiri’s Apple Watch         7.4.1   \n",
       "\n",
       "                                                  device       type   unit  \\\n",
       "41092  <<HKDevice: 0x283877bb0>, name:Apple Watch, ma...  StepCount  count   \n",
       "41093  <<HKDevice: 0x283877bb0>, name:Apple Watch, ma...  StepCount  count   \n",
       "41094  <<HKDevice: 0x283877bb0>, name:Apple Watch, ma...  StepCount  count   \n",
       "41095  <<HKDevice: 0x283877bb0>, name:Apple Watch, ma...  StepCount  count   \n",
       "41096  <<HKDevice: 0x283877bb0>, name:Apple Watch, ma...  StepCount  count   \n",
       "\n",
       "                    creationDate                  startDate  \\\n",
       "41092  2021-05-23 20:06:53 +0530  2021-05-23 20:02:59 +0530   \n",
       "41093  2021-05-23 20:06:53 +0530  2021-05-23 20:06:35 +0530   \n",
       "41094  2021-05-23 20:16:58 +0530  2021-05-23 20:06:51 +0530   \n",
       "41095  2021-05-23 20:32:37 +0530  2021-05-23 20:17:00 +0530   \n",
       "41096  2021-05-23 20:47:01 +0530  2021-05-23 20:27:33 +0530   \n",
       "\n",
       "                         endDate  value  \n",
       "41092  2021-05-23 20:03:57 +0530    106  \n",
       "41093  2021-05-23 20:06:51 +0530     33  \n",
       "41094  2021-05-23 20:16:25 +0530    185  \n",
       "41095  2021-05-23 20:25:58 +0530    108  \n",
       "41096  2021-05-23 20:36:56 +0530     75  "
      ]
     },
     "execution_count": 13,
     "metadata": {},
     "output_type": "execute_result"
    }
   ],
   "source": [
    "steps.tail()"
   ]
  },
  {
   "cell_type": "code",
   "execution_count": 14,
   "metadata": {},
   "outputs": [
    {
     "data": {
      "text/plain": [
       "3227571"
      ]
     },
     "execution_count": 14,
     "metadata": {},
     "output_type": "execute_result"
    }
   ],
   "source": [
    "# total all-time steps\n",
    "steps.value.sum()"
   ]
  },
  {
   "cell_type": "markdown",
   "metadata": {},
   "source": [
    "-------"
   ]
  },
  {
   "cell_type": "markdown",
   "metadata": {},
   "source": [
    "## Stand Count"
   ]
  },
  {
   "cell_type": "code",
   "execution_count": 15,
   "metadata": {},
   "outputs": [],
   "source": [
    "stand = pd.read_csv(\"data/AppleStandHour.csv\")"
   ]
  },
  {
   "cell_type": "code",
   "execution_count": 16,
   "metadata": {},
   "outputs": [
    {
     "data": {
      "text/plain": [
       "6040"
      ]
     },
     "execution_count": 16,
     "metadata": {},
     "output_type": "execute_result"
    }
   ],
   "source": [
    "len(stand)"
   ]
  },
  {
   "cell_type": "code",
   "execution_count": 17,
   "metadata": {},
   "outputs": [
    {
     "data": {
      "text/plain": [
       "Index(['sourceName', 'sourceVersion', 'device', 'type', 'unit', 'creationDate',\n",
       "       'startDate', 'endDate', 'value'],\n",
       "      dtype='object')"
      ]
     },
     "execution_count": 17,
     "metadata": {},
     "output_type": "execute_result"
    }
   ],
   "source": [
    "stand.columns"
   ]
  },
  {
   "cell_type": "code",
   "execution_count": 18,
   "metadata": {},
   "outputs": [
    {
     "data": {
      "text/html": [
       "<div>\n",
       "<style scoped>\n",
       "    .dataframe tbody tr th:only-of-type {\n",
       "        vertical-align: middle;\n",
       "    }\n",
       "\n",
       "    .dataframe tbody tr th {\n",
       "        vertical-align: top;\n",
       "    }\n",
       "\n",
       "    .dataframe thead th {\n",
       "        text-align: right;\n",
       "    }\n",
       "</style>\n",
       "<table border=\"1\" class=\"dataframe\">\n",
       "  <thead>\n",
       "    <tr style=\"text-align: right;\">\n",
       "      <th></th>\n",
       "      <th>unit</th>\n",
       "    </tr>\n",
       "  </thead>\n",
       "  <tbody>\n",
       "    <tr>\n",
       "      <th>count</th>\n",
       "      <td>0.0</td>\n",
       "    </tr>\n",
       "    <tr>\n",
       "      <th>mean</th>\n",
       "      <td>NaN</td>\n",
       "    </tr>\n",
       "    <tr>\n",
       "      <th>std</th>\n",
       "      <td>NaN</td>\n",
       "    </tr>\n",
       "    <tr>\n",
       "      <th>min</th>\n",
       "      <td>NaN</td>\n",
       "    </tr>\n",
       "    <tr>\n",
       "      <th>25%</th>\n",
       "      <td>NaN</td>\n",
       "    </tr>\n",
       "    <tr>\n",
       "      <th>50%</th>\n",
       "      <td>NaN</td>\n",
       "    </tr>\n",
       "    <tr>\n",
       "      <th>75%</th>\n",
       "      <td>NaN</td>\n",
       "    </tr>\n",
       "    <tr>\n",
       "      <th>max</th>\n",
       "      <td>NaN</td>\n",
       "    </tr>\n",
       "  </tbody>\n",
       "</table>\n",
       "</div>"
      ],
      "text/plain": [
       "       unit\n",
       "count   0.0\n",
       "mean    NaN\n",
       "std     NaN\n",
       "min     NaN\n",
       "25%     NaN\n",
       "50%     NaN\n",
       "75%     NaN\n",
       "max     NaN"
      ]
     },
     "execution_count": 18,
     "metadata": {},
     "output_type": "execute_result"
    }
   ],
   "source": [
    "stand.describe()"
   ]
  },
  {
   "cell_type": "code",
   "execution_count": 19,
   "metadata": {},
   "outputs": [
    {
     "data": {
      "text/html": [
       "<div>\n",
       "<style scoped>\n",
       "    .dataframe tbody tr th:only-of-type {\n",
       "        vertical-align: middle;\n",
       "    }\n",
       "\n",
       "    .dataframe tbody tr th {\n",
       "        vertical-align: top;\n",
       "    }\n",
       "\n",
       "    .dataframe thead th {\n",
       "        text-align: right;\n",
       "    }\n",
       "</style>\n",
       "<table border=\"1\" class=\"dataframe\">\n",
       "  <thead>\n",
       "    <tr style=\"text-align: right;\">\n",
       "      <th></th>\n",
       "      <th>sourceName</th>\n",
       "      <th>sourceVersion</th>\n",
       "      <th>device</th>\n",
       "      <th>type</th>\n",
       "      <th>unit</th>\n",
       "      <th>creationDate</th>\n",
       "      <th>startDate</th>\n",
       "      <th>endDate</th>\n",
       "      <th>value</th>\n",
       "    </tr>\n",
       "  </thead>\n",
       "  <tbody>\n",
       "    <tr>\n",
       "      <th>6035</th>\n",
       "      <td>Seshathiri’s Apple Watch</td>\n",
       "      <td>7.4.1</td>\n",
       "      <td>&lt;&lt;HKDevice: 0x283898d70&gt;, name:Apple Watch, ma...</td>\n",
       "      <td>AppleStandHour</td>\n",
       "      <td>NaN</td>\n",
       "      <td>2021-05-23 16:41:01 +0530</td>\n",
       "      <td>2021-05-23 16:00:00 +0530</td>\n",
       "      <td>2021-05-23 17:00:00 +0530</td>\n",
       "      <td>HKCategoryValueAppleStandHourStood</td>\n",
       "    </tr>\n",
       "    <tr>\n",
       "      <th>6036</th>\n",
       "      <td>Seshathiri’s Apple Watch</td>\n",
       "      <td>7.4.1</td>\n",
       "      <td>&lt;&lt;HKDevice: 0x283898d70&gt;, name:Apple Watch, ma...</td>\n",
       "      <td>AppleStandHour</td>\n",
       "      <td>NaN</td>\n",
       "      <td>2021-05-23 17:12:26 +0530</td>\n",
       "      <td>2021-05-23 17:00:00 +0530</td>\n",
       "      <td>2021-05-23 18:00:00 +0530</td>\n",
       "      <td>HKCategoryValueAppleStandHourStood</td>\n",
       "    </tr>\n",
       "    <tr>\n",
       "      <th>6037</th>\n",
       "      <td>Seshathiri’s Apple Watch</td>\n",
       "      <td>7.4.1</td>\n",
       "      <td>&lt;&lt;HKDevice: 0x283898d70&gt;, name:Apple Watch, ma...</td>\n",
       "      <td>AppleStandHour</td>\n",
       "      <td>NaN</td>\n",
       "      <td>2021-05-23 18:01:37 +0530</td>\n",
       "      <td>2021-05-23 18:00:00 +0530</td>\n",
       "      <td>2021-05-23 19:00:00 +0530</td>\n",
       "      <td>HKCategoryValueAppleStandHourStood</td>\n",
       "    </tr>\n",
       "    <tr>\n",
       "      <th>6038</th>\n",
       "      <td>Seshathiri’s Apple Watch</td>\n",
       "      <td>7.4.1</td>\n",
       "      <td>&lt;&lt;HKDevice: 0x283898d70&gt;, name:Apple Watch, ma...</td>\n",
       "      <td>AppleStandHour</td>\n",
       "      <td>NaN</td>\n",
       "      <td>2021-05-23 19:07:36 +0530</td>\n",
       "      <td>2021-05-23 19:00:00 +0530</td>\n",
       "      <td>2021-05-23 20:00:00 +0530</td>\n",
       "      <td>HKCategoryValueAppleStandHourStood</td>\n",
       "    </tr>\n",
       "    <tr>\n",
       "      <th>6039</th>\n",
       "      <td>Seshathiri’s Apple Watch</td>\n",
       "      <td>7.4.1</td>\n",
       "      <td>&lt;&lt;HKDevice: 0x283898d70&gt;, name:Apple Watch, ma...</td>\n",
       "      <td>AppleStandHour</td>\n",
       "      <td>NaN</td>\n",
       "      <td>2021-05-23 20:02:54 +0530</td>\n",
       "      <td>2021-05-23 20:00:00 +0530</td>\n",
       "      <td>2021-05-23 21:00:00 +0530</td>\n",
       "      <td>HKCategoryValueAppleStandHourStood</td>\n",
       "    </tr>\n",
       "  </tbody>\n",
       "</table>\n",
       "</div>"
      ],
      "text/plain": [
       "                    sourceName sourceVersion  \\\n",
       "6035  Seshathiri’s Apple Watch         7.4.1   \n",
       "6036  Seshathiri’s Apple Watch         7.4.1   \n",
       "6037  Seshathiri’s Apple Watch         7.4.1   \n",
       "6038  Seshathiri’s Apple Watch         7.4.1   \n",
       "6039  Seshathiri’s Apple Watch         7.4.1   \n",
       "\n",
       "                                                 device            type  unit  \\\n",
       "6035  <<HKDevice: 0x283898d70>, name:Apple Watch, ma...  AppleStandHour   NaN   \n",
       "6036  <<HKDevice: 0x283898d70>, name:Apple Watch, ma...  AppleStandHour   NaN   \n",
       "6037  <<HKDevice: 0x283898d70>, name:Apple Watch, ma...  AppleStandHour   NaN   \n",
       "6038  <<HKDevice: 0x283898d70>, name:Apple Watch, ma...  AppleStandHour   NaN   \n",
       "6039  <<HKDevice: 0x283898d70>, name:Apple Watch, ma...  AppleStandHour   NaN   \n",
       "\n",
       "                   creationDate                  startDate  \\\n",
       "6035  2021-05-23 16:41:01 +0530  2021-05-23 16:00:00 +0530   \n",
       "6036  2021-05-23 17:12:26 +0530  2021-05-23 17:00:00 +0530   \n",
       "6037  2021-05-23 18:01:37 +0530  2021-05-23 18:00:00 +0530   \n",
       "6038  2021-05-23 19:07:36 +0530  2021-05-23 19:00:00 +0530   \n",
       "6039  2021-05-23 20:02:54 +0530  2021-05-23 20:00:00 +0530   \n",
       "\n",
       "                        endDate                               value  \n",
       "6035  2021-05-23 17:00:00 +0530  HKCategoryValueAppleStandHourStood  \n",
       "6036  2021-05-23 18:00:00 +0530  HKCategoryValueAppleStandHourStood  \n",
       "6037  2021-05-23 19:00:00 +0530  HKCategoryValueAppleStandHourStood  \n",
       "6038  2021-05-23 20:00:00 +0530  HKCategoryValueAppleStandHourStood  \n",
       "6039  2021-05-23 21:00:00 +0530  HKCategoryValueAppleStandHourStood  "
      ]
     },
     "execution_count": 19,
     "metadata": {},
     "output_type": "execute_result"
    }
   ],
   "source": [
    "stand.tail()"
   ]
  },
  {
   "cell_type": "markdown",
   "metadata": {},
   "source": [
    "------"
   ]
  },
  {
   "cell_type": "markdown",
   "metadata": {},
   "source": [
    "## Resting Heart Rate (HR)"
   ]
  },
  {
   "cell_type": "code",
   "execution_count": 20,
   "metadata": {},
   "outputs": [],
   "source": [
    "restingHR = pd.read_csv(\"data/RestingHeartRate.csv\")"
   ]
  },
  {
   "cell_type": "code",
   "execution_count": 21,
   "metadata": {},
   "outputs": [
    {
     "data": {
      "text/plain": [
       "436"
      ]
     },
     "execution_count": 21,
     "metadata": {},
     "output_type": "execute_result"
    }
   ],
   "source": [
    "len(restingHR)"
   ]
  },
  {
   "cell_type": "code",
   "execution_count": 22,
   "metadata": {},
   "outputs": [
    {
     "data": {
      "text/html": [
       "<div>\n",
       "<style scoped>\n",
       "    .dataframe tbody tr th:only-of-type {\n",
       "        vertical-align: middle;\n",
       "    }\n",
       "\n",
       "    .dataframe tbody tr th {\n",
       "        vertical-align: top;\n",
       "    }\n",
       "\n",
       "    .dataframe thead th {\n",
       "        text-align: right;\n",
       "    }\n",
       "</style>\n",
       "<table border=\"1\" class=\"dataframe\">\n",
       "  <thead>\n",
       "    <tr style=\"text-align: right;\">\n",
       "      <th></th>\n",
       "      <th>device</th>\n",
       "      <th>value</th>\n",
       "    </tr>\n",
       "  </thead>\n",
       "  <tbody>\n",
       "    <tr>\n",
       "      <th>count</th>\n",
       "      <td>0.0</td>\n",
       "      <td>436.000000</td>\n",
       "    </tr>\n",
       "    <tr>\n",
       "      <th>mean</th>\n",
       "      <td>NaN</td>\n",
       "      <td>72.307339</td>\n",
       "    </tr>\n",
       "    <tr>\n",
       "      <th>std</th>\n",
       "      <td>NaN</td>\n",
       "      <td>8.711838</td>\n",
       "    </tr>\n",
       "    <tr>\n",
       "      <th>min</th>\n",
       "      <td>NaN</td>\n",
       "      <td>55.000000</td>\n",
       "    </tr>\n",
       "    <tr>\n",
       "      <th>25%</th>\n",
       "      <td>NaN</td>\n",
       "      <td>66.000000</td>\n",
       "    </tr>\n",
       "    <tr>\n",
       "      <th>50%</th>\n",
       "      <td>NaN</td>\n",
       "      <td>72.000000</td>\n",
       "    </tr>\n",
       "    <tr>\n",
       "      <th>75%</th>\n",
       "      <td>NaN</td>\n",
       "      <td>78.000000</td>\n",
       "    </tr>\n",
       "    <tr>\n",
       "      <th>max</th>\n",
       "      <td>NaN</td>\n",
       "      <td>100.000000</td>\n",
       "    </tr>\n",
       "  </tbody>\n",
       "</table>\n",
       "</div>"
      ],
      "text/plain": [
       "       device       value\n",
       "count     0.0  436.000000\n",
       "mean      NaN   72.307339\n",
       "std       NaN    8.711838\n",
       "min       NaN   55.000000\n",
       "25%       NaN   66.000000\n",
       "50%       NaN   72.000000\n",
       "75%       NaN   78.000000\n",
       "max       NaN  100.000000"
      ]
     },
     "execution_count": 22,
     "metadata": {},
     "output_type": "execute_result"
    }
   ],
   "source": [
    "restingHR.describe()"
   ]
  },
  {
   "cell_type": "markdown",
   "metadata": {},
   "source": [
    "---"
   ]
  },
  {
   "cell_type": "markdown",
   "metadata": {},
   "source": [
    "## Walking Heart Rate (HR) Average"
   ]
  },
  {
   "cell_type": "code",
   "execution_count": 23,
   "metadata": {},
   "outputs": [],
   "source": [
    "walkingHR = pd.read_csv(\"data/WalkingHeartRateAverage.csv\")"
   ]
  },
  {
   "cell_type": "code",
   "execution_count": 24,
   "metadata": {},
   "outputs": [
    {
     "data": {
      "text/plain": [
       "438"
      ]
     },
     "execution_count": 24,
     "metadata": {},
     "output_type": "execute_result"
    }
   ],
   "source": [
    "len(walkingHR)"
   ]
  },
  {
   "cell_type": "code",
   "execution_count": 22,
   "metadata": {},
   "outputs": [
    {
     "data": {
      "text/html": [
       "<div>\n",
       "<style>\n",
       "    .dataframe thead tr:only-child th {\n",
       "        text-align: right;\n",
       "    }\n",
       "\n",
       "    .dataframe thead th {\n",
       "        text-align: left;\n",
       "    }\n",
       "\n",
       "    .dataframe tbody tr th {\n",
       "        vertical-align: top;\n",
       "    }\n",
       "</style>\n",
       "<table border=\"1\" class=\"dataframe\">\n",
       "  <thead>\n",
       "    <tr style=\"text-align: right;\">\n",
       "      <th></th>\n",
       "      <th>sourceVersion</th>\n",
       "      <th>device</th>\n",
       "      <th>value</th>\n",
       "    </tr>\n",
       "  </thead>\n",
       "  <tbody>\n",
       "    <tr>\n",
       "      <th>count</th>\n",
       "      <td>185.000000</td>\n",
       "      <td>0.0</td>\n",
       "      <td>185.000000</td>\n",
       "    </tr>\n",
       "    <tr>\n",
       "      <th>mean</th>\n",
       "      <td>4.092432</td>\n",
       "      <td>NaN</td>\n",
       "      <td>80.927027</td>\n",
       "    </tr>\n",
       "    <tr>\n",
       "      <th>std</th>\n",
       "      <td>0.072584</td>\n",
       "      <td>NaN</td>\n",
       "      <td>12.104564</td>\n",
       "    </tr>\n",
       "    <tr>\n",
       "      <th>min</th>\n",
       "      <td>4.000000</td>\n",
       "      <td>NaN</td>\n",
       "      <td>60.000000</td>\n",
       "    </tr>\n",
       "    <tr>\n",
       "      <th>25%</th>\n",
       "      <td>4.100000</td>\n",
       "      <td>NaN</td>\n",
       "      <td>73.000000</td>\n",
       "    </tr>\n",
       "    <tr>\n",
       "      <th>50%</th>\n",
       "      <td>4.100000</td>\n",
       "      <td>NaN</td>\n",
       "      <td>78.000000</td>\n",
       "    </tr>\n",
       "    <tr>\n",
       "      <th>75%</th>\n",
       "      <td>4.100000</td>\n",
       "      <td>NaN</td>\n",
       "      <td>86.000000</td>\n",
       "    </tr>\n",
       "    <tr>\n",
       "      <th>max</th>\n",
       "      <td>4.300000</td>\n",
       "      <td>NaN</td>\n",
       "      <td>135.000000</td>\n",
       "    </tr>\n",
       "  </tbody>\n",
       "</table>\n",
       "</div>"
      ],
      "text/plain": [
       "       sourceVersion  device       value\n",
       "count     185.000000     0.0  185.000000\n",
       "mean        4.092432     NaN   80.927027\n",
       "std         0.072584     NaN   12.104564\n",
       "min         4.000000     NaN   60.000000\n",
       "25%         4.100000     NaN   73.000000\n",
       "50%         4.100000     NaN   78.000000\n",
       "75%         4.100000     NaN   86.000000\n",
       "max         4.300000     NaN  135.000000"
      ]
     },
     "execution_count": 22,
     "metadata": {},
     "output_type": "execute_result"
    }
   ],
   "source": [
    "walkingHR.describe()"
   ]
  },
  {
   "cell_type": "markdown",
   "metadata": {},
   "source": [
    "---"
   ]
  },
  {
   "cell_type": "markdown",
   "metadata": {},
   "source": [
    "## Heart Rate Variability (HRV)"
   ]
  },
  {
   "cell_type": "code",
   "execution_count": 25,
   "metadata": {},
   "outputs": [],
   "source": [
    "hrv = pd.read_csv(\"data/HeartRateVariabilitySDNN.csv\")"
   ]
  },
  {
   "cell_type": "code",
   "execution_count": 26,
   "metadata": {},
   "outputs": [
    {
     "data": {
      "text/plain": [
       "1163"
      ]
     },
     "execution_count": 26,
     "metadata": {},
     "output_type": "execute_result"
    }
   ],
   "source": [
    "len(hrv)"
   ]
  },
  {
   "cell_type": "code",
   "execution_count": 27,
   "metadata": {},
   "outputs": [
    {
     "data": {
      "text/plain": [
       "Index(['sourceName', 'sourceVersion', 'device', 'type', 'unit', 'creationDate',\n",
       "       'startDate', 'endDate', 'value'],\n",
       "      dtype='object')"
      ]
     },
     "execution_count": 27,
     "metadata": {},
     "output_type": "execute_result"
    }
   ],
   "source": [
    "hrv.columns"
   ]
  },
  {
   "cell_type": "code",
   "execution_count": 28,
   "metadata": {},
   "outputs": [
    {
     "data": {
      "text/html": [
       "<div>\n",
       "<style scoped>\n",
       "    .dataframe tbody tr th:only-of-type {\n",
       "        vertical-align: middle;\n",
       "    }\n",
       "\n",
       "    .dataframe tbody tr th {\n",
       "        vertical-align: top;\n",
       "    }\n",
       "\n",
       "    .dataframe thead th {\n",
       "        text-align: right;\n",
       "    }\n",
       "</style>\n",
       "<table border=\"1\" class=\"dataframe\">\n",
       "  <thead>\n",
       "    <tr style=\"text-align: right;\">\n",
       "      <th></th>\n",
       "      <th>value</th>\n",
       "    </tr>\n",
       "  </thead>\n",
       "  <tbody>\n",
       "    <tr>\n",
       "      <th>count</th>\n",
       "      <td>1163.000000</td>\n",
       "    </tr>\n",
       "    <tr>\n",
       "      <th>mean</th>\n",
       "      <td>44.842997</td>\n",
       "    </tr>\n",
       "    <tr>\n",
       "      <th>std</th>\n",
       "      <td>22.817420</td>\n",
       "    </tr>\n",
       "    <tr>\n",
       "      <th>min</th>\n",
       "      <td>6.729130</td>\n",
       "    </tr>\n",
       "    <tr>\n",
       "      <th>25%</th>\n",
       "      <td>28.732600</td>\n",
       "    </tr>\n",
       "    <tr>\n",
       "      <th>50%</th>\n",
       "      <td>40.713200</td>\n",
       "    </tr>\n",
       "    <tr>\n",
       "      <th>75%</th>\n",
       "      <td>56.277200</td>\n",
       "    </tr>\n",
       "    <tr>\n",
       "      <th>max</th>\n",
       "      <td>157.426000</td>\n",
       "    </tr>\n",
       "  </tbody>\n",
       "</table>\n",
       "</div>"
      ],
      "text/plain": [
       "             value\n",
       "count  1163.000000\n",
       "mean     44.842997\n",
       "std      22.817420\n",
       "min       6.729130\n",
       "25%      28.732600\n",
       "50%      40.713200\n",
       "75%      56.277200\n",
       "max     157.426000"
      ]
     },
     "execution_count": 28,
     "metadata": {},
     "output_type": "execute_result"
    }
   ],
   "source": [
    "hrv.describe()"
   ]
  },
  {
   "cell_type": "code",
   "execution_count": 29,
   "metadata": {},
   "outputs": [
    {
     "data": {
      "text/html": [
       "<div>\n",
       "<style scoped>\n",
       "    .dataframe tbody tr th:only-of-type {\n",
       "        vertical-align: middle;\n",
       "    }\n",
       "\n",
       "    .dataframe tbody tr th {\n",
       "        vertical-align: top;\n",
       "    }\n",
       "\n",
       "    .dataframe thead th {\n",
       "        text-align: right;\n",
       "    }\n",
       "</style>\n",
       "<table border=\"1\" class=\"dataframe\">\n",
       "  <thead>\n",
       "    <tr style=\"text-align: right;\">\n",
       "      <th></th>\n",
       "      <th>sourceName</th>\n",
       "      <th>sourceVersion</th>\n",
       "      <th>device</th>\n",
       "      <th>type</th>\n",
       "      <th>unit</th>\n",
       "      <th>creationDate</th>\n",
       "      <th>startDate</th>\n",
       "      <th>endDate</th>\n",
       "      <th>value</th>\n",
       "    </tr>\n",
       "  </thead>\n",
       "  <tbody>\n",
       "    <tr>\n",
       "      <th>1158</th>\n",
       "      <td>Seshathiri’s Apple Watch</td>\n",
       "      <td>7.4</td>\n",
       "      <td>&lt;&lt;HKDevice: 0x2838e7700&gt;, name:Apple Watch, ma...</td>\n",
       "      <td>HeartRateVariabilitySDNN</td>\n",
       "      <td>ms</td>\n",
       "      <td>2021-05-08 20:42:53 +0530</td>\n",
       "      <td>2021-05-08 20:41:52 +0530</td>\n",
       "      <td>2021-05-08 20:42:53 +0530</td>\n",
       "      <td>12.7671</td>\n",
       "    </tr>\n",
       "    <tr>\n",
       "      <th>1159</th>\n",
       "      <td>Seshathiri’s Apple Watch</td>\n",
       "      <td>7.4.1</td>\n",
       "      <td>&lt;&lt;HKDevice: 0x2838e76b0&gt;, name:Apple Watch, ma...</td>\n",
       "      <td>HeartRateVariabilitySDNN</td>\n",
       "      <td>ms</td>\n",
       "      <td>2021-05-23 12:34:42 +0530</td>\n",
       "      <td>2021-05-23 12:33:36 +0530</td>\n",
       "      <td>2021-05-23 12:34:42 +0530</td>\n",
       "      <td>19.6715</td>\n",
       "    </tr>\n",
       "    <tr>\n",
       "      <th>1160</th>\n",
       "      <td>Seshathiri’s Apple Watch</td>\n",
       "      <td>7.4.1</td>\n",
       "      <td>&lt;&lt;HKDevice: 0x2838e76b0&gt;, name:Apple Watch, ma...</td>\n",
       "      <td>HeartRateVariabilitySDNN</td>\n",
       "      <td>ms</td>\n",
       "      <td>2021-05-23 14:16:20 +0530</td>\n",
       "      <td>2021-05-23 14:15:17 +0530</td>\n",
       "      <td>2021-05-23 14:16:20 +0530</td>\n",
       "      <td>69.9346</td>\n",
       "    </tr>\n",
       "    <tr>\n",
       "      <th>1161</th>\n",
       "      <td>Seshathiri’s Apple Watch</td>\n",
       "      <td>7.4.1</td>\n",
       "      <td>&lt;&lt;HKDevice: 0x2838e76b0&gt;, name:Apple Watch, ma...</td>\n",
       "      <td>HeartRateVariabilitySDNN</td>\n",
       "      <td>ms</td>\n",
       "      <td>2021-05-23 16:22:34 +0530</td>\n",
       "      <td>2021-05-23 16:21:29 +0530</td>\n",
       "      <td>2021-05-23 16:22:34 +0530</td>\n",
       "      <td>45.2034</td>\n",
       "    </tr>\n",
       "    <tr>\n",
       "      <th>1162</th>\n",
       "      <td>Seshathiri’s Apple Watch</td>\n",
       "      <td>7.4.1</td>\n",
       "      <td>&lt;&lt;HKDevice: 0x2838e76b0&gt;, name:Apple Watch, ma...</td>\n",
       "      <td>HeartRateVariabilitySDNN</td>\n",
       "      <td>ms</td>\n",
       "      <td>2021-05-23 20:24:05 +0530</td>\n",
       "      <td>2021-05-23 20:23:00 +0530</td>\n",
       "      <td>2021-05-23 20:24:05 +0530</td>\n",
       "      <td>27.0578</td>\n",
       "    </tr>\n",
       "  </tbody>\n",
       "</table>\n",
       "</div>"
      ],
      "text/plain": [
       "                    sourceName sourceVersion  \\\n",
       "1158  Seshathiri’s Apple Watch           7.4   \n",
       "1159  Seshathiri’s Apple Watch         7.4.1   \n",
       "1160  Seshathiri’s Apple Watch         7.4.1   \n",
       "1161  Seshathiri’s Apple Watch         7.4.1   \n",
       "1162  Seshathiri’s Apple Watch         7.4.1   \n",
       "\n",
       "                                                 device  \\\n",
       "1158  <<HKDevice: 0x2838e7700>, name:Apple Watch, ma...   \n",
       "1159  <<HKDevice: 0x2838e76b0>, name:Apple Watch, ma...   \n",
       "1160  <<HKDevice: 0x2838e76b0>, name:Apple Watch, ma...   \n",
       "1161  <<HKDevice: 0x2838e76b0>, name:Apple Watch, ma...   \n",
       "1162  <<HKDevice: 0x2838e76b0>, name:Apple Watch, ma...   \n",
       "\n",
       "                          type unit               creationDate  \\\n",
       "1158  HeartRateVariabilitySDNN   ms  2021-05-08 20:42:53 +0530   \n",
       "1159  HeartRateVariabilitySDNN   ms  2021-05-23 12:34:42 +0530   \n",
       "1160  HeartRateVariabilitySDNN   ms  2021-05-23 14:16:20 +0530   \n",
       "1161  HeartRateVariabilitySDNN   ms  2021-05-23 16:22:34 +0530   \n",
       "1162  HeartRateVariabilitySDNN   ms  2021-05-23 20:24:05 +0530   \n",
       "\n",
       "                      startDate                    endDate    value  \n",
       "1158  2021-05-08 20:41:52 +0530  2021-05-08 20:42:53 +0530  12.7671  \n",
       "1159  2021-05-23 12:33:36 +0530  2021-05-23 12:34:42 +0530  19.6715  \n",
       "1160  2021-05-23 14:15:17 +0530  2021-05-23 14:16:20 +0530  69.9346  \n",
       "1161  2021-05-23 16:21:29 +0530  2021-05-23 16:22:34 +0530  45.2034  \n",
       "1162  2021-05-23 20:23:00 +0530  2021-05-23 20:24:05 +0530  27.0578  "
      ]
     },
     "execution_count": 29,
     "metadata": {},
     "output_type": "execute_result"
    }
   ],
   "source": [
    "hrv.tail()"
   ]
  },
  {
   "cell_type": "markdown",
   "metadata": {},
   "source": [
    "-------"
   ]
  },
  {
   "cell_type": "markdown",
   "metadata": {},
   "source": [
    "## VO2 Max"
   ]
  },
  {
   "cell_type": "code",
   "execution_count": 30,
   "metadata": {},
   "outputs": [],
   "source": [
    "vo2max = pd.read_csv(\"data/VO2Max.csv\")"
   ]
  },
  {
   "cell_type": "code",
   "execution_count": 31,
   "metadata": {},
   "outputs": [
    {
     "data": {
      "text/plain": [
       "35"
      ]
     },
     "execution_count": 31,
     "metadata": {},
     "output_type": "execute_result"
    }
   ],
   "source": [
    "len(vo2max)"
   ]
  },
  {
   "cell_type": "code",
   "execution_count": 32,
   "metadata": {},
   "outputs": [
    {
     "data": {
      "text/html": [
       "<div>\n",
       "<style scoped>\n",
       "    .dataframe tbody tr th:only-of-type {\n",
       "        vertical-align: middle;\n",
       "    }\n",
       "\n",
       "    .dataframe tbody tr th {\n",
       "        vertical-align: top;\n",
       "    }\n",
       "\n",
       "    .dataframe thead th {\n",
       "        text-align: right;\n",
       "    }\n",
       "</style>\n",
       "<table border=\"1\" class=\"dataframe\">\n",
       "  <thead>\n",
       "    <tr style=\"text-align: right;\">\n",
       "      <th></th>\n",
       "      <th>sourceVersion</th>\n",
       "      <th>device</th>\n",
       "      <th>value</th>\n",
       "    </tr>\n",
       "  </thead>\n",
       "  <tbody>\n",
       "    <tr>\n",
       "      <th>count</th>\n",
       "      <td>0.0</td>\n",
       "      <td>0.0</td>\n",
       "      <td>35.000000</td>\n",
       "    </tr>\n",
       "    <tr>\n",
       "      <th>mean</th>\n",
       "      <td>NaN</td>\n",
       "      <td>NaN</td>\n",
       "      <td>31.901463</td>\n",
       "    </tr>\n",
       "    <tr>\n",
       "      <th>std</th>\n",
       "      <td>NaN</td>\n",
       "      <td>NaN</td>\n",
       "      <td>1.374384</td>\n",
       "    </tr>\n",
       "    <tr>\n",
       "      <th>min</th>\n",
       "      <td>NaN</td>\n",
       "      <td>NaN</td>\n",
       "      <td>31.179100</td>\n",
       "    </tr>\n",
       "    <tr>\n",
       "      <th>25%</th>\n",
       "      <td>NaN</td>\n",
       "      <td>NaN</td>\n",
       "      <td>31.295400</td>\n",
       "    </tr>\n",
       "    <tr>\n",
       "      <th>50%</th>\n",
       "      <td>NaN</td>\n",
       "      <td>NaN</td>\n",
       "      <td>31.295400</td>\n",
       "    </tr>\n",
       "    <tr>\n",
       "      <th>75%</th>\n",
       "      <td>NaN</td>\n",
       "      <td>NaN</td>\n",
       "      <td>31.295400</td>\n",
       "    </tr>\n",
       "    <tr>\n",
       "      <th>max</th>\n",
       "      <td>NaN</td>\n",
       "      <td>NaN</td>\n",
       "      <td>35.137500</td>\n",
       "    </tr>\n",
       "  </tbody>\n",
       "</table>\n",
       "</div>"
      ],
      "text/plain": [
       "       sourceVersion  device      value\n",
       "count            0.0     0.0  35.000000\n",
       "mean             NaN     NaN  31.901463\n",
       "std              NaN     NaN   1.374384\n",
       "min              NaN     NaN  31.179100\n",
       "25%              NaN     NaN  31.295400\n",
       "50%              NaN     NaN  31.295400\n",
       "75%              NaN     NaN  31.295400\n",
       "max              NaN     NaN  35.137500"
      ]
     },
     "execution_count": 32,
     "metadata": {},
     "output_type": "execute_result"
    }
   ],
   "source": [
    "vo2max.describe()"
   ]
  },
  {
   "cell_type": "markdown",
   "metadata": {},
   "source": [
    "----"
   ]
  },
  {
   "cell_type": "markdown",
   "metadata": {},
   "source": []
  },
  {
   "cell_type": "code",
   "execution_count": null,
   "metadata": {},
   "outputs": [],
   "source": []
  },
  {
   "cell_type": "code",
   "execution_count": null,
   "metadata": {},
   "outputs": [],
   "source": []
  },
  {
   "cell_type": "code",
   "execution_count": 1,
   "metadata": {},
   "outputs": [
    {
     "ename": "NameError",
     "evalue": "name 'systolic' is not defined",
     "output_type": "error",
     "traceback": [
      "\u001b[1;31m---------------------------------------------------------------------------\u001b[0m",
      "\u001b[1;31mNameError\u001b[0m                                 Traceback (most recent call last)",
      "\u001b[1;32m<ipython-input-1-cb80e0405d1e>\u001b[0m in \u001b[0;36m<module>\u001b[1;34m\u001b[0m\n\u001b[1;32m----> 1\u001b[1;33m \u001b[0msystolic\u001b[0m\u001b[1;33m.\u001b[0m\u001b[0mdescribe\u001b[0m\u001b[1;33m(\u001b[0m\u001b[1;33m)\u001b[0m\u001b[1;33m\u001b[0m\u001b[1;33m\u001b[0m\u001b[0m\n\u001b[0m",
      "\u001b[1;31mNameError\u001b[0m: name 'systolic' is not defined"
     ]
    }
   ],
   "source": []
  },
  {
   "cell_type": "markdown",
   "metadata": {},
   "source": [
    "------"
   ]
  },
  {
   "cell_type": "markdown",
   "metadata": {},
   "source": [
    "## Sleep"
   ]
  },
  {
   "cell_type": "code",
   "execution_count": 34,
   "metadata": {},
   "outputs": [],
   "source": [
    "sleep = pd.read_csv(\"data/SleepAnalysis.csv\")"
   ]
  },
  {
   "cell_type": "code",
   "execution_count": 35,
   "metadata": {},
   "outputs": [
    {
     "data": {
      "text/html": [
       "<div>\n",
       "<style scoped>\n",
       "    .dataframe tbody tr th:only-of-type {\n",
       "        vertical-align: middle;\n",
       "    }\n",
       "\n",
       "    .dataframe tbody tr th {\n",
       "        vertical-align: top;\n",
       "    }\n",
       "\n",
       "    .dataframe thead th {\n",
       "        text-align: right;\n",
       "    }\n",
       "</style>\n",
       "<table border=\"1\" class=\"dataframe\">\n",
       "  <thead>\n",
       "    <tr style=\"text-align: right;\">\n",
       "      <th></th>\n",
       "      <th>sourceName</th>\n",
       "      <th>sourceVersion</th>\n",
       "      <th>device</th>\n",
       "      <th>type</th>\n",
       "      <th>unit</th>\n",
       "      <th>creationDate</th>\n",
       "      <th>startDate</th>\n",
       "      <th>endDate</th>\n",
       "      <th>value</th>\n",
       "    </tr>\n",
       "  </thead>\n",
       "  <tbody>\n",
       "    <tr>\n",
       "      <th>77</th>\n",
       "      <td>Seshathiri’s Apple Watch</td>\n",
       "      <td>7.1</td>\n",
       "      <td>NaN</td>\n",
       "      <td>SleepAnalysis</td>\n",
       "      <td>NaN</td>\n",
       "      <td>2020-12-03 12:55:28 +0530</td>\n",
       "      <td>2020-12-03 08:12:09 +0530</td>\n",
       "      <td>2020-12-03 08:47:09 +0530</td>\n",
       "      <td>HKCategoryValueSleepAnalysisAsleep</td>\n",
       "    </tr>\n",
       "    <tr>\n",
       "      <th>78</th>\n",
       "      <td>Seshathiri’s Apple Watch</td>\n",
       "      <td>7.1</td>\n",
       "      <td>NaN</td>\n",
       "      <td>SleepAnalysis</td>\n",
       "      <td>NaN</td>\n",
       "      <td>2020-12-03 12:55:28 +0530</td>\n",
       "      <td>2020-12-03 08:50:39 +0530</td>\n",
       "      <td>2020-12-03 11:56:09 +0530</td>\n",
       "      <td>HKCategoryValueSleepAnalysisAsleep</td>\n",
       "    </tr>\n",
       "    <tr>\n",
       "      <th>79</th>\n",
       "      <td>Seshathiri’s Apple Watch</td>\n",
       "      <td>7.1</td>\n",
       "      <td>NaN</td>\n",
       "      <td>SleepAnalysis</td>\n",
       "      <td>NaN</td>\n",
       "      <td>2020-12-03 12:55:28 +0530</td>\n",
       "      <td>2020-12-03 11:58:39 +0530</td>\n",
       "      <td>2020-12-03 12:39:39 +0530</td>\n",
       "      <td>HKCategoryValueSleepAnalysisAsleep</td>\n",
       "    </tr>\n",
       "    <tr>\n",
       "      <th>80</th>\n",
       "      <td>Seshathiri’s iPhone</td>\n",
       "      <td>14.2</td>\n",
       "      <td>NaN</td>\n",
       "      <td>SleepAnalysis</td>\n",
       "      <td>NaN</td>\n",
       "      <td>2020-12-03 12:40:00 +0530</td>\n",
       "      <td>2020-12-03 06:40:12 +0530</td>\n",
       "      <td>2020-12-03 12:40:00 +0530</td>\n",
       "      <td>HKCategoryValueSleepAnalysisInBed</td>\n",
       "    </tr>\n",
       "    <tr>\n",
       "      <th>81</th>\n",
       "      <td>Seshathiri’s iPhone</td>\n",
       "      <td>14.2</td>\n",
       "      <td>NaN</td>\n",
       "      <td>SleepAnalysis</td>\n",
       "      <td>NaN</td>\n",
       "      <td>2020-12-04 11:30:00 +0530</td>\n",
       "      <td>2020-12-04 02:09:07 +0530</td>\n",
       "      <td>2020-12-04 11:30:00 +0530</td>\n",
       "      <td>HKCategoryValueSleepAnalysisInBed</td>\n",
       "    </tr>\n",
       "  </tbody>\n",
       "</table>\n",
       "</div>"
      ],
      "text/plain": [
       "                  sourceName sourceVersion device           type  unit  \\\n",
       "77  Seshathiri’s Apple Watch           7.1    NaN  SleepAnalysis   NaN   \n",
       "78  Seshathiri’s Apple Watch           7.1    NaN  SleepAnalysis   NaN   \n",
       "79  Seshathiri’s Apple Watch           7.1    NaN  SleepAnalysis   NaN   \n",
       "80       Seshathiri’s iPhone          14.2    NaN  SleepAnalysis   NaN   \n",
       "81       Seshathiri’s iPhone          14.2    NaN  SleepAnalysis   NaN   \n",
       "\n",
       "                 creationDate                  startDate  \\\n",
       "77  2020-12-03 12:55:28 +0530  2020-12-03 08:12:09 +0530   \n",
       "78  2020-12-03 12:55:28 +0530  2020-12-03 08:50:39 +0530   \n",
       "79  2020-12-03 12:55:28 +0530  2020-12-03 11:58:39 +0530   \n",
       "80  2020-12-03 12:40:00 +0530  2020-12-03 06:40:12 +0530   \n",
       "81  2020-12-04 11:30:00 +0530  2020-12-04 02:09:07 +0530   \n",
       "\n",
       "                      endDate                               value  \n",
       "77  2020-12-03 08:47:09 +0530  HKCategoryValueSleepAnalysisAsleep  \n",
       "78  2020-12-03 11:56:09 +0530  HKCategoryValueSleepAnalysisAsleep  \n",
       "79  2020-12-03 12:39:39 +0530  HKCategoryValueSleepAnalysisAsleep  \n",
       "80  2020-12-03 12:40:00 +0530   HKCategoryValueSleepAnalysisInBed  \n",
       "81  2020-12-04 11:30:00 +0530   HKCategoryValueSleepAnalysisInBed  "
      ]
     },
     "execution_count": 35,
     "metadata": {},
     "output_type": "execute_result"
    }
   ],
   "source": [
    "sleep.tail()"
   ]
  },
  {
   "cell_type": "code",
   "execution_count": 36,
   "metadata": {},
   "outputs": [
    {
     "data": {
      "text/html": [
       "<div>\n",
       "<style scoped>\n",
       "    .dataframe tbody tr th:only-of-type {\n",
       "        vertical-align: middle;\n",
       "    }\n",
       "\n",
       "    .dataframe tbody tr th {\n",
       "        vertical-align: top;\n",
       "    }\n",
       "\n",
       "    .dataframe thead th {\n",
       "        text-align: right;\n",
       "    }\n",
       "</style>\n",
       "<table border=\"1\" class=\"dataframe\">\n",
       "  <thead>\n",
       "    <tr style=\"text-align: right;\">\n",
       "      <th></th>\n",
       "      <th>unit</th>\n",
       "    </tr>\n",
       "  </thead>\n",
       "  <tbody>\n",
       "    <tr>\n",
       "      <th>count</th>\n",
       "      <td>0.0</td>\n",
       "    </tr>\n",
       "    <tr>\n",
       "      <th>mean</th>\n",
       "      <td>NaN</td>\n",
       "    </tr>\n",
       "    <tr>\n",
       "      <th>std</th>\n",
       "      <td>NaN</td>\n",
       "    </tr>\n",
       "    <tr>\n",
       "      <th>min</th>\n",
       "      <td>NaN</td>\n",
       "    </tr>\n",
       "    <tr>\n",
       "      <th>25%</th>\n",
       "      <td>NaN</td>\n",
       "    </tr>\n",
       "    <tr>\n",
       "      <th>50%</th>\n",
       "      <td>NaN</td>\n",
       "    </tr>\n",
       "    <tr>\n",
       "      <th>75%</th>\n",
       "      <td>NaN</td>\n",
       "    </tr>\n",
       "    <tr>\n",
       "      <th>max</th>\n",
       "      <td>NaN</td>\n",
       "    </tr>\n",
       "  </tbody>\n",
       "</table>\n",
       "</div>"
      ],
      "text/plain": [
       "       unit\n",
       "count   0.0\n",
       "mean    NaN\n",
       "std     NaN\n",
       "min     NaN\n",
       "25%     NaN\n",
       "50%     NaN\n",
       "75%     NaN\n",
       "max     NaN"
      ]
     },
     "execution_count": 36,
     "metadata": {},
     "output_type": "execute_result"
    }
   ],
   "source": [
    "sleep.describe()"
   ]
  },
  {
   "cell_type": "code",
   "execution_count": null,
   "metadata": {
    "collapsed": true
   },
   "outputs": [],
   "source": []
  }
 ],
 "metadata": {
  "kernelspec": {
   "display_name": "Python 3",
   "language": "python",
   "name": "python3"
  },
  "language_info": {
   "codemirror_mode": {
    "name": "ipython",
    "version": 3
   },
   "file_extension": ".py",
   "mimetype": "text/x-python",
   "name": "python",
   "nbconvert_exporter": "python",
   "pygments_lexer": "ipython3",
   "version": "3.7.5"
  }
 },
 "nbformat": 4,
 "nbformat_minor": 2
}
