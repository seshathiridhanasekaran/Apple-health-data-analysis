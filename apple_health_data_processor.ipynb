{
 "cells": [
  {
   "cell_type": "markdown",
   "metadata": {},
   "source": [
    "## Apple Health Data Processor"
   ]
  },
  {
   "cell_type": "markdown",
   "metadata": {},
   "source": [
    "-----"
   ]
  },
  {
   "cell_type": "markdown",
   "metadata": {},
   "source": [
    "## Dependencies and Libraries"
   ]
  },
  {
   "cell_type": "code",
   "execution_count": 1,
   "metadata": {},
   "outputs": [],
   "source": [
    "from datetime import date, datetime, timedelta as td\n",
    "import pytz\n",
    "import numpy as np\n",
    "import pandas as pd\n",
    "import matplotlib.pyplot as plt\n",
    "%matplotlib inline"
   ]
  },
  {
   "cell_type": "markdown",
   "metadata": {},
   "source": [
    "------"
   ]
  },
  {
   "cell_type": "markdown",
   "metadata": {},
   "source": [
    "## Functions for Processing Dates and Timezones"
   ]
  },
  {
   "cell_type": "code",
   "execution_count": 2,
   "metadata": {},
   "outputs": [],
   "source": [
    "# functions to convert UTC to Oslo time zone and extract date/time elements\n",
    "convert_tz = lambda x: x.to_pydatetime().replace(tzinfo=pytz.utc).astimezone(pytz.timezone('Europe/Oslo'))\n",
    "get_year = lambda x: convert_tz(x).year\n",
    "get_month = lambda x: '{}-{:02}'.format(convert_tz(x).year, convert_tz(x).month) #inefficient\n",
    "get_date = lambda x: '{}-{:02}-{:02}'.format(convert_tz(x).year, convert_tz(x).month, convert_tz(x).day) #inefficient\n",
    "get_day = lambda x: convert_tz(x).day\n",
    "get_hour = lambda x: convert_tz(x).hour\n",
    "get_minute = lambda x: convert_tz(x).minute\n",
    "get_day_of_week = lambda x: convert_tz(x).weekday()"
   ]
  },
  {
   "cell_type": "markdown",
   "metadata": {},
   "source": [
    "---"
   ]
  },
  {
   "cell_type": "markdown",
   "metadata": {},
   "source": [
    "## Steps"
   ]
  },
  {
   "cell_type": "code",
   "execution_count": 3,
   "metadata": {},
   "outputs": [],
   "source": [
    "steps = pd.read_csv(\"data/StepCount.csv\")"
   ]
  },
  {
   "cell_type": "code",
   "execution_count": 4,
   "metadata": {},
   "outputs": [
    {
     "data": {
      "text/html": [
       "<div>\n",
       "<style scoped>\n",
       "    .dataframe tbody tr th:only-of-type {\n",
       "        vertical-align: middle;\n",
       "    }\n",
       "\n",
       "    .dataframe tbody tr th {\n",
       "        vertical-align: top;\n",
       "    }\n",
       "\n",
       "    .dataframe thead th {\n",
       "        text-align: right;\n",
       "    }\n",
       "</style>\n",
       "<table border=\"1\" class=\"dataframe\">\n",
       "  <thead>\n",
       "    <tr style=\"text-align: right;\">\n",
       "      <th></th>\n",
       "      <th>sourceName</th>\n",
       "      <th>sourceVersion</th>\n",
       "      <th>device</th>\n",
       "      <th>type</th>\n",
       "      <th>unit</th>\n",
       "      <th>creationDate</th>\n",
       "      <th>startDate</th>\n",
       "      <th>endDate</th>\n",
       "      <th>value</th>\n",
       "    </tr>\n",
       "  </thead>\n",
       "  <tbody>\n",
       "    <tr>\n",
       "      <th>41092</th>\n",
       "      <td>Seshathiri’s Apple Watch</td>\n",
       "      <td>7.4.1</td>\n",
       "      <td>&lt;&lt;HKDevice: 0x283877bb0&gt;, name:Apple Watch, ma...</td>\n",
       "      <td>StepCount</td>\n",
       "      <td>count</td>\n",
       "      <td>2021-05-23 20:06:53 +0530</td>\n",
       "      <td>2021-05-23 20:02:59 +0530</td>\n",
       "      <td>2021-05-23 20:03:57 +0530</td>\n",
       "      <td>106</td>\n",
       "    </tr>\n",
       "    <tr>\n",
       "      <th>41093</th>\n",
       "      <td>Seshathiri’s Apple Watch</td>\n",
       "      <td>7.4.1</td>\n",
       "      <td>&lt;&lt;HKDevice: 0x283877bb0&gt;, name:Apple Watch, ma...</td>\n",
       "      <td>StepCount</td>\n",
       "      <td>count</td>\n",
       "      <td>2021-05-23 20:06:53 +0530</td>\n",
       "      <td>2021-05-23 20:06:35 +0530</td>\n",
       "      <td>2021-05-23 20:06:51 +0530</td>\n",
       "      <td>33</td>\n",
       "    </tr>\n",
       "    <tr>\n",
       "      <th>41094</th>\n",
       "      <td>Seshathiri’s Apple Watch</td>\n",
       "      <td>7.4.1</td>\n",
       "      <td>&lt;&lt;HKDevice: 0x283877bb0&gt;, name:Apple Watch, ma...</td>\n",
       "      <td>StepCount</td>\n",
       "      <td>count</td>\n",
       "      <td>2021-05-23 20:16:58 +0530</td>\n",
       "      <td>2021-05-23 20:06:51 +0530</td>\n",
       "      <td>2021-05-23 20:16:25 +0530</td>\n",
       "      <td>185</td>\n",
       "    </tr>\n",
       "    <tr>\n",
       "      <th>41095</th>\n",
       "      <td>Seshathiri’s Apple Watch</td>\n",
       "      <td>7.4.1</td>\n",
       "      <td>&lt;&lt;HKDevice: 0x283877bb0&gt;, name:Apple Watch, ma...</td>\n",
       "      <td>StepCount</td>\n",
       "      <td>count</td>\n",
       "      <td>2021-05-23 20:32:37 +0530</td>\n",
       "      <td>2021-05-23 20:17:00 +0530</td>\n",
       "      <td>2021-05-23 20:25:58 +0530</td>\n",
       "      <td>108</td>\n",
       "    </tr>\n",
       "    <tr>\n",
       "      <th>41096</th>\n",
       "      <td>Seshathiri’s Apple Watch</td>\n",
       "      <td>7.4.1</td>\n",
       "      <td>&lt;&lt;HKDevice: 0x283877bb0&gt;, name:Apple Watch, ma...</td>\n",
       "      <td>StepCount</td>\n",
       "      <td>count</td>\n",
       "      <td>2021-05-23 20:47:01 +0530</td>\n",
       "      <td>2021-05-23 20:27:33 +0530</td>\n",
       "      <td>2021-05-23 20:36:56 +0530</td>\n",
       "      <td>75</td>\n",
       "    </tr>\n",
       "  </tbody>\n",
       "</table>\n",
       "</div>"
      ],
      "text/plain": [
       "                     sourceName sourceVersion  \\\n",
       "41092  Seshathiri’s Apple Watch         7.4.1   \n",
       "41093  Seshathiri’s Apple Watch         7.4.1   \n",
       "41094  Seshathiri’s Apple Watch         7.4.1   \n",
       "41095  Seshathiri’s Apple Watch         7.4.1   \n",
       "41096  Seshathiri’s Apple Watch         7.4.1   \n",
       "\n",
       "                                                  device       type   unit  \\\n",
       "41092  <<HKDevice: 0x283877bb0>, name:Apple Watch, ma...  StepCount  count   \n",
       "41093  <<HKDevice: 0x283877bb0>, name:Apple Watch, ma...  StepCount  count   \n",
       "41094  <<HKDevice: 0x283877bb0>, name:Apple Watch, ma...  StepCount  count   \n",
       "41095  <<HKDevice: 0x283877bb0>, name:Apple Watch, ma...  StepCount  count   \n",
       "41096  <<HKDevice: 0x283877bb0>, name:Apple Watch, ma...  StepCount  count   \n",
       "\n",
       "                    creationDate                  startDate  \\\n",
       "41092  2021-05-23 20:06:53 +0530  2021-05-23 20:02:59 +0530   \n",
       "41093  2021-05-23 20:06:53 +0530  2021-05-23 20:06:35 +0530   \n",
       "41094  2021-05-23 20:16:58 +0530  2021-05-23 20:06:51 +0530   \n",
       "41095  2021-05-23 20:32:37 +0530  2021-05-23 20:17:00 +0530   \n",
       "41096  2021-05-23 20:47:01 +0530  2021-05-23 20:27:33 +0530   \n",
       "\n",
       "                         endDate  value  \n",
       "41092  2021-05-23 20:03:57 +0530    106  \n",
       "41093  2021-05-23 20:06:51 +0530     33  \n",
       "41094  2021-05-23 20:16:25 +0530    185  \n",
       "41095  2021-05-23 20:25:58 +0530    108  \n",
       "41096  2021-05-23 20:36:56 +0530     75  "
      ]
     },
     "execution_count": 4,
     "metadata": {},
     "output_type": "execute_result"
    }
   ],
   "source": [
    "steps.tail()"
   ]
  },
  {
   "cell_type": "code",
   "execution_count": 5,
   "metadata": {},
   "outputs": [],
   "source": [
    "# parse out date and time elements as Oslo time\n",
    "steps['startDate'] = pd.to_datetime(steps['startDate'])\n",
    "steps['year'] = steps['startDate'].map(get_year)\n",
    "steps['month'] = steps['startDate'].map(get_month)\n",
    "steps['date'] = steps['startDate'].map(get_date)\n",
    "steps['day'] = steps['startDate'].map(get_day)\n",
    "steps['hour'] = steps['startDate'].map(get_hour)\n",
    "steps['dow'] = steps['startDate'].map(get_day_of_week)"
   ]
  },
  {
   "cell_type": "code",
   "execution_count": 6,
   "metadata": {},
   "outputs": [
    {
     "data": {
      "text/html": [
       "<div>\n",
       "<style scoped>\n",
       "    .dataframe tbody tr th:only-of-type {\n",
       "        vertical-align: middle;\n",
       "    }\n",
       "\n",
       "    .dataframe tbody tr th {\n",
       "        vertical-align: top;\n",
       "    }\n",
       "\n",
       "    .dataframe thead th {\n",
       "        text-align: right;\n",
       "    }\n",
       "</style>\n",
       "<table border=\"1\" class=\"dataframe\">\n",
       "  <thead>\n",
       "    <tr style=\"text-align: right;\">\n",
       "      <th></th>\n",
       "      <th>sourceName</th>\n",
       "      <th>sourceVersion</th>\n",
       "      <th>device</th>\n",
       "      <th>type</th>\n",
       "      <th>unit</th>\n",
       "      <th>creationDate</th>\n",
       "      <th>startDate</th>\n",
       "      <th>endDate</th>\n",
       "      <th>value</th>\n",
       "      <th>year</th>\n",
       "      <th>month</th>\n",
       "      <th>date</th>\n",
       "      <th>day</th>\n",
       "      <th>hour</th>\n",
       "      <th>dow</th>\n",
       "    </tr>\n",
       "  </thead>\n",
       "  <tbody>\n",
       "    <tr>\n",
       "      <th>0</th>\n",
       "      <td>Seshathiri’s iPhone</td>\n",
       "      <td>13.1.3</td>\n",
       "      <td>&lt;&lt;HKDevice: 0x283881450&gt;, name:iPhone, manufac...</td>\n",
       "      <td>StepCount</td>\n",
       "      <td>count</td>\n",
       "      <td>2019-10-17 23:01:40 +0530</td>\n",
       "      <td>2019-10-17 01:18:08+05:30</td>\n",
       "      <td>2019-10-17 01:18:14 +0530</td>\n",
       "      <td>13</td>\n",
       "      <td>2019</td>\n",
       "      <td>2019-10</td>\n",
       "      <td>2019-10-17</td>\n",
       "      <td>17</td>\n",
       "      <td>3</td>\n",
       "      <td>3</td>\n",
       "    </tr>\n",
       "    <tr>\n",
       "      <th>1</th>\n",
       "      <td>Seshathiri’s iPhone</td>\n",
       "      <td>13.1.3</td>\n",
       "      <td>&lt;&lt;HKDevice: 0x283881450&gt;, name:iPhone, manufac...</td>\n",
       "      <td>StepCount</td>\n",
       "      <td>count</td>\n",
       "      <td>2019-10-18 23:38:29 +0530</td>\n",
       "      <td>2019-10-18 23:27:26+05:30</td>\n",
       "      <td>2019-10-18 23:27:29 +0530</td>\n",
       "      <td>13</td>\n",
       "      <td>2019</td>\n",
       "      <td>2019-10</td>\n",
       "      <td>2019-10-19</td>\n",
       "      <td>19</td>\n",
       "      <td>1</td>\n",
       "      <td>5</td>\n",
       "    </tr>\n",
       "    <tr>\n",
       "      <th>2</th>\n",
       "      <td>Seshathiri’s iPhone</td>\n",
       "      <td>13.1.3</td>\n",
       "      <td>&lt;&lt;HKDevice: 0x283881450&gt;, name:iPhone, manufac...</td>\n",
       "      <td>StepCount</td>\n",
       "      <td>count</td>\n",
       "      <td>2019-10-18 23:57:27 +0530</td>\n",
       "      <td>2019-10-18 23:46:47+05:30</td>\n",
       "      <td>2019-10-18 23:56:47 +0530</td>\n",
       "      <td>272</td>\n",
       "      <td>2019</td>\n",
       "      <td>2019-10</td>\n",
       "      <td>2019-10-19</td>\n",
       "      <td>19</td>\n",
       "      <td>1</td>\n",
       "      <td>5</td>\n",
       "    </tr>\n",
       "    <tr>\n",
       "      <th>3</th>\n",
       "      <td>Seshathiri’s iPhone</td>\n",
       "      <td>13.1.3</td>\n",
       "      <td>&lt;&lt;HKDevice: 0x283881450&gt;, name:iPhone, manufac...</td>\n",
       "      <td>StepCount</td>\n",
       "      <td>count</td>\n",
       "      <td>2019-10-19 00:07:50 +0530</td>\n",
       "      <td>2019-10-18 23:56:47+05:30</td>\n",
       "      <td>2019-10-19 00:00:55 +0530</td>\n",
       "      <td>290</td>\n",
       "      <td>2019</td>\n",
       "      <td>2019-10</td>\n",
       "      <td>2019-10-19</td>\n",
       "      <td>19</td>\n",
       "      <td>1</td>\n",
       "      <td>5</td>\n",
       "    </tr>\n",
       "    <tr>\n",
       "      <th>4</th>\n",
       "      <td>Seshathiri’s iPhone</td>\n",
       "      <td>13.1.3</td>\n",
       "      <td>&lt;&lt;HKDevice: 0x283881450&gt;, name:iPhone, manufac...</td>\n",
       "      <td>StepCount</td>\n",
       "      <td>count</td>\n",
       "      <td>2019-10-19 00:22:01 +0530</td>\n",
       "      <td>2019-10-19 00:11:11+05:30</td>\n",
       "      <td>2019-10-19 00:17:22 +0530</td>\n",
       "      <td>72</td>\n",
       "      <td>2019</td>\n",
       "      <td>2019-10</td>\n",
       "      <td>2019-10-19</td>\n",
       "      <td>19</td>\n",
       "      <td>2</td>\n",
       "      <td>5</td>\n",
       "    </tr>\n",
       "  </tbody>\n",
       "</table>\n",
       "</div>"
      ],
      "text/plain": [
       "            sourceName sourceVersion  \\\n",
       "0  Seshathiri’s iPhone        13.1.3   \n",
       "1  Seshathiri’s iPhone        13.1.3   \n",
       "2  Seshathiri’s iPhone        13.1.3   \n",
       "3  Seshathiri’s iPhone        13.1.3   \n",
       "4  Seshathiri’s iPhone        13.1.3   \n",
       "\n",
       "                                              device       type   unit  \\\n",
       "0  <<HKDevice: 0x283881450>, name:iPhone, manufac...  StepCount  count   \n",
       "1  <<HKDevice: 0x283881450>, name:iPhone, manufac...  StepCount  count   \n",
       "2  <<HKDevice: 0x283881450>, name:iPhone, manufac...  StepCount  count   \n",
       "3  <<HKDevice: 0x283881450>, name:iPhone, manufac...  StepCount  count   \n",
       "4  <<HKDevice: 0x283881450>, name:iPhone, manufac...  StepCount  count   \n",
       "\n",
       "                creationDate                 startDate  \\\n",
       "0  2019-10-17 23:01:40 +0530 2019-10-17 01:18:08+05:30   \n",
       "1  2019-10-18 23:38:29 +0530 2019-10-18 23:27:26+05:30   \n",
       "2  2019-10-18 23:57:27 +0530 2019-10-18 23:46:47+05:30   \n",
       "3  2019-10-19 00:07:50 +0530 2019-10-18 23:56:47+05:30   \n",
       "4  2019-10-19 00:22:01 +0530 2019-10-19 00:11:11+05:30   \n",
       "\n",
       "                     endDate  value  year    month        date  day  hour  dow  \n",
       "0  2019-10-17 01:18:14 +0530     13  2019  2019-10  2019-10-17   17     3    3  \n",
       "1  2019-10-18 23:27:29 +0530     13  2019  2019-10  2019-10-19   19     1    5  \n",
       "2  2019-10-18 23:56:47 +0530    272  2019  2019-10  2019-10-19   19     1    5  \n",
       "3  2019-10-19 00:00:55 +0530    290  2019  2019-10  2019-10-19   19     1    5  \n",
       "4  2019-10-19 00:17:22 +0530     72  2019  2019-10  2019-10-19   19     2    5  "
      ]
     },
     "execution_count": 6,
     "metadata": {},
     "output_type": "execute_result"
    }
   ],
   "source": [
    "steps.head()"
   ]
  },
  {
   "cell_type": "code",
   "execution_count": 7,
   "metadata": {},
   "outputs": [
    {
     "data": {
      "text/plain": [
       "Index(['sourceName', 'sourceVersion', 'device', 'type', 'unit', 'creationDate',\n",
       "       'startDate', 'endDate', 'value', 'year', 'month', 'date', 'day', 'hour',\n",
       "       'dow'],\n",
       "      dtype='object')"
      ]
     },
     "execution_count": 7,
     "metadata": {},
     "output_type": "execute_result"
    }
   ],
   "source": [
    "steps.columns"
   ]
  },
  {
   "cell_type": "code",
   "execution_count": 8,
   "metadata": {},
   "outputs": [],
   "source": [
    "steps_by_date = steps.groupby(['date'])['value'].sum().reset_index(name='Steps')"
   ]
  },
  {
   "cell_type": "code",
   "execution_count": 9,
   "metadata": {},
   "outputs": [
    {
     "data": {
      "text/html": [
       "<div>\n",
       "<style scoped>\n",
       "    .dataframe tbody tr th:only-of-type {\n",
       "        vertical-align: middle;\n",
       "    }\n",
       "\n",
       "    .dataframe tbody tr th {\n",
       "        vertical-align: top;\n",
       "    }\n",
       "\n",
       "    .dataframe thead th {\n",
       "        text-align: right;\n",
       "    }\n",
       "</style>\n",
       "<table border=\"1\" class=\"dataframe\">\n",
       "  <thead>\n",
       "    <tr style=\"text-align: right;\">\n",
       "      <th></th>\n",
       "      <th>date</th>\n",
       "      <th>Steps</th>\n",
       "    </tr>\n",
       "  </thead>\n",
       "  <tbody>\n",
       "    <tr>\n",
       "      <th>534</th>\n",
       "      <td>2021-05-08</td>\n",
       "      <td>653</td>\n",
       "    </tr>\n",
       "    <tr>\n",
       "      <th>535</th>\n",
       "      <td>2021-05-13</td>\n",
       "      <td>25</td>\n",
       "    </tr>\n",
       "    <tr>\n",
       "      <th>536</th>\n",
       "      <td>2021-05-21</td>\n",
       "      <td>29</td>\n",
       "    </tr>\n",
       "    <tr>\n",
       "      <th>537</th>\n",
       "      <td>2021-05-22</td>\n",
       "      <td>16</td>\n",
       "    </tr>\n",
       "    <tr>\n",
       "      <th>538</th>\n",
       "      <td>2021-05-23</td>\n",
       "      <td>3167</td>\n",
       "    </tr>\n",
       "  </tbody>\n",
       "</table>\n",
       "</div>"
      ],
      "text/plain": [
       "           date  Steps\n",
       "534  2021-05-08    653\n",
       "535  2021-05-13     25\n",
       "536  2021-05-21     29\n",
       "537  2021-05-22     16\n",
       "538  2021-05-23   3167"
      ]
     },
     "execution_count": 9,
     "metadata": {},
     "output_type": "execute_result"
    }
   ],
   "source": [
    "steps_by_date.tail()"
   ]
  },
  {
   "cell_type": "code",
   "execution_count": 10,
   "metadata": {},
   "outputs": [],
   "source": [
    "# steps_by_date.tail(10)\n",
    "steps_by_date.to_csv(\"data/steps_per_day.csv\", index=False)"
   ]
  },
  {
   "cell_type": "markdown",
   "metadata": {},
   "source": [
    "-----"
   ]
  },
  {
   "cell_type": "markdown",
   "metadata": {},
   "source": [
    "### Use Only Watch Steps, Remove Phone Steps"
   ]
  },
  {
   "cell_type": "code",
   "execution_count": 11,
   "metadata": {},
   "outputs": [],
   "source": [
    "steps_device_by_year = steps.groupby(['year', 'sourceName'])['value'].sum().reset_index(name='Steps')"
   ]
  },
  {
   "cell_type": "code",
   "execution_count": 12,
   "metadata": {},
   "outputs": [
    {
     "data": {
      "text/html": [
       "<div>\n",
       "<style scoped>\n",
       "    .dataframe tbody tr th:only-of-type {\n",
       "        vertical-align: middle;\n",
       "    }\n",
       "\n",
       "    .dataframe tbody tr th {\n",
       "        vertical-align: top;\n",
       "    }\n",
       "\n",
       "    .dataframe thead th {\n",
       "        text-align: right;\n",
       "    }\n",
       "</style>\n",
       "<table border=\"1\" class=\"dataframe\">\n",
       "  <thead>\n",
       "    <tr style=\"text-align: right;\">\n",
       "      <th></th>\n",
       "      <th>year</th>\n",
       "      <th>sourceName</th>\n",
       "      <th>Steps</th>\n",
       "    </tr>\n",
       "  </thead>\n",
       "  <tbody>\n",
       "    <tr>\n",
       "      <th>0</th>\n",
       "      <td>2018</td>\n",
       "      <td>Seshathiri’s Apple Watch</td>\n",
       "      <td>24</td>\n",
       "    </tr>\n",
       "    <tr>\n",
       "      <th>1</th>\n",
       "      <td>2019</td>\n",
       "      <td>Seshathiri’s Apple Watch</td>\n",
       "      <td>300871</td>\n",
       "    </tr>\n",
       "    <tr>\n",
       "      <th>2</th>\n",
       "      <td>2019</td>\n",
       "      <td>Seshathiri’s iPhone</td>\n",
       "      <td>110147</td>\n",
       "    </tr>\n",
       "    <tr>\n",
       "      <th>3</th>\n",
       "      <td>2020</td>\n",
       "      <td>Seshathiri’s Apple Watch</td>\n",
       "      <td>1294269</td>\n",
       "    </tr>\n",
       "    <tr>\n",
       "      <th>4</th>\n",
       "      <td>2020</td>\n",
       "      <td>Seshathiri’s iPhone</td>\n",
       "      <td>935619</td>\n",
       "    </tr>\n",
       "    <tr>\n",
       "      <th>5</th>\n",
       "      <td>2021</td>\n",
       "      <td>Seshathiri’s Apple Watch</td>\n",
       "      <td>371480</td>\n",
       "    </tr>\n",
       "    <tr>\n",
       "      <th>6</th>\n",
       "      <td>2021</td>\n",
       "      <td>Seshathiri’s iPhone</td>\n",
       "      <td>215161</td>\n",
       "    </tr>\n",
       "  </tbody>\n",
       "</table>\n",
       "</div>"
      ],
      "text/plain": [
       "   year                sourceName    Steps\n",
       "0  2018  Seshathiri’s Apple Watch       24\n",
       "1  2019  Seshathiri’s Apple Watch   300871\n",
       "2  2019       Seshathiri’s iPhone   110147\n",
       "3  2020  Seshathiri’s Apple Watch  1294269\n",
       "4  2020       Seshathiri’s iPhone   935619\n",
       "5  2021  Seshathiri’s Apple Watch   371480\n",
       "6  2021       Seshathiri’s iPhone   215161"
      ]
     },
     "execution_count": 12,
     "metadata": {},
     "output_type": "execute_result"
    }
   ],
   "source": [
    "steps_device_by_year"
   ]
  },
  {
   "cell_type": "code",
   "execution_count": 13,
   "metadata": {},
   "outputs": [
    {
     "data": {
      "text/plain": [
       "array(['Seshathiri’s iPhone', 'Seshathiri’s Apple\\xa0Watch'], dtype=object)"
      ]
     },
     "execution_count": 13,
     "metadata": {},
     "output_type": "execute_result"
    }
   ],
   "source": [
    "steps.sourceName.unique()"
   ]
  },
  {
   "cell_type": "code",
   "execution_count": 14,
   "metadata": {},
   "outputs": [],
   "source": [
    "# drop phone steps\n",
    "steps = steps[steps.sourceName == 'Seshathiri’s Apple Watch']\n",
    "# steps.head()"
   ]
  },
  {
   "cell_type": "markdown",
   "metadata": {},
   "source": [
    "## Rolling Average"
   ]
  },
  {
   "cell_type": "code",
   "execution_count": 16,
   "metadata": {},
   "outputs": [
    {
     "data": {
      "text/plain": [
       "<AxesSubplot:title={'center':'Daily step counts rolling mean over 18 months'}, xlabel='date'>"
      ]
     },
     "execution_count": 16,
     "metadata": {},
     "output_type": "execute_result"
    },
    {
     "data": {
      "image/png": "[encoded data removed]",
      "text/plain": [
       "<Figure size 720x432 with 1 Axes>"
      ]
     },
     "metadata": {
      "needs_background": "light"
     },
     "output_type": "display_data"
    }
   ],
   "source": [
    "steps_by_date['RollingMeanSteps'] = steps_by_date.Steps.rolling(window=10, center=True).mean()\n",
    "steps_by_date.plot(x='date', y='RollingMeanSteps', title= 'Daily step counts rolling mean over 18 months', figsize=[10, 6])"
   ]
  },
  {
   "cell_type": "markdown",
   "metadata": {},
   "source": [
    "## Steps by Day of Week"
   ]
  },
  {
   "cell_type": "code",
   "execution_count": 17,
   "metadata": {},
   "outputs": [],
   "source": [
    "steps_by_date['date'] = pd.to_datetime(steps_by_date['date'])\n",
    "steps_by_date['dow'] = steps_by_date['date'].dt.weekday"
   ]
  },
  {
   "cell_type": "code",
   "execution_count": 18,
   "metadata": {},
   "outputs": [
    {
     "data": {
      "text/plain": [
       "Text(0.5, 0, 'Day of Week')"
      ]
     },
     "execution_count": 18,
     "metadata": {},
     "output_type": "execute_result"
    },
    {
     "data": {
      "image/png": "[encoded data removed]",
      "text/plain": [
       "<Figure size 720x432 with 1 Axes>"
      ]
     },
     "metadata": {
      "needs_background": "light"
     },
     "output_type": "display_data"
    }
   ],
   "source": [
    "data = steps_by_date.groupby(['dow'])['Steps'].mean()\n",
    "\n",
    "fig, ax = plt.subplots(figsize=[10, 6])\n",
    "ax = data.plot(kind='bar', x='day_of_week')\n",
    "\n",
    "n_groups = len(data)\n",
    "index = np.arange(n_groups)\n",
    "opacity = 0.75\n",
    "\n",
    "#fig, ax = plt.subplots(figsize=[10, 6])\n",
    "ax.yaxis.grid(True)\n",
    "\n",
    "plt.suptitle('Average Steps by Day of the Week', fontsize=16)\n",
    "dow_labels = ['Monday', 'Tuesday', 'Wednesday', 'Thursday', 'Friday', 'Saturday', 'Sunday']\n",
    "plt.xticks(index, dow_labels, rotation=45)\n",
    "plt.xlabel('Day of Week', fontsize=12, color='red')"
   ]
  },
  {
   "cell_type": "markdown",
   "metadata": {},
   "source": [
    "## Heart Rate"
   ]
  },
  {
   "cell_type": "code",
   "execution_count": 19,
   "metadata": {},
   "outputs": [
    {
     "data": {
      "text/plain": [
       "436"
      ]
     },
     "execution_count": 19,
     "metadata": {},
     "output_type": "execute_result"
    }
   ],
   "source": [
    "resting = pd.read_csv(\"data/RestingHeartRate.csv\")\n",
    "len(resting)"
   ]
  },
  {
   "cell_type": "code",
   "execution_count": 20,
   "metadata": {},
   "outputs": [
    {
     "data": {
      "text/plain": [
       "Index(['sourceName', 'sourceVersion', 'device', 'type', 'unit', 'creationDate',\n",
       "       'startDate', 'endDate', 'value'],\n",
       "      dtype='object')"
      ]
     },
     "execution_count": 20,
     "metadata": {},
     "output_type": "execute_result"
    }
   ],
   "source": [
    "resting.columns"
   ]
  },
  {
   "cell_type": "code",
   "execution_count": 21,
   "metadata": {},
   "outputs": [
    {
     "data": {
      "text/plain": [
       "array(['Seshathiri’s Apple\\xa0Watch'], dtype=object)"
      ]
     },
     "execution_count": 21,
     "metadata": {},
     "output_type": "execute_result"
    }
   ],
   "source": [
    "resting.sourceName.unique()"
   ]
  },
  {
   "cell_type": "code",
   "execution_count": 22,
   "metadata": {},
   "outputs": [],
   "source": [
    "# parse out date and time elements as Oslo time\n",
    "resting['startDate'] = pd.to_datetime(resting['startDate'])\n",
    "resting['year'] = resting['startDate'].map(get_year)\n",
    "resting['month'] = resting['startDate'].map(get_month)\n",
    "resting['date'] = resting['startDate'].map(get_date)"
   ]
  },
  {
   "cell_type": "code",
   "execution_count": 23,
   "metadata": {},
   "outputs": [],
   "source": [
    "# resting.tail(10)"
   ]
  },
  {
   "cell_type": "code",
   "execution_count": 24,
   "metadata": {},
   "outputs": [
    {
     "data": {
      "text/plain": [
       "<AxesSubplot:title={'center':'Resting HR'}, xlabel='date'>"
      ]
     },
     "execution_count": 24,
     "metadata": {},
     "output_type": "execute_result"
    },
    {
     "data": {
      "image/png": "[encoded data removed]",
      "text/plain": [
       "<Figure size 720x432 with 1 Axes>"
      ]
     },
     "metadata": {
      "needs_background": "light"
     },
     "output_type": "display_data"
    }
   ],
   "source": [
    "resting[resting.month == '2021-03'].plot(x='date', y='value', title= 'Resting HR', figsize=[10, 6])"
   ]
  },
  {
   "cell_type": "code",
   "execution_count": 25,
   "metadata": {},
   "outputs": [
    {
     "data": {
      "text/plain": [
       "171534"
      ]
     },
     "execution_count": 25,
     "metadata": {},
     "output_type": "execute_result"
    }
   ],
   "source": [
    "hr = pd.read_csv(\"data/HeartRate.csv\")\n",
    "len(hr)"
   ]
  },
  {
   "cell_type": "code",
   "execution_count": 26,
   "metadata": {},
   "outputs": [],
   "source": [
    "# hr.tail(10)"
   ]
  },
  {
   "cell_type": "code",
   "execution_count": 27,
   "metadata": {},
   "outputs": [],
   "source": [
    "# parse out date and time elements as Shanghai time\n",
    "hr['startDate'] = pd.to_datetime(hr['startDate'])\n",
    "hr['year'] = hr['startDate'].map(get_year)\n",
    "hr['month'] = hr['startDate'].map(get_month)\n",
    "hr['hour'] = hr['startDate'].map(get_hour)\n",
    "hr['date'] = hr['startDate'].map(get_date)"
   ]
  },
  {
   "cell_type": "code",
   "execution_count": 28,
   "metadata": {},
   "outputs": [
    {
     "data": {
      "text/plain": [
       "<AxesSubplot:title={'center':'Heart Rate'}, xlabel='startDate'>"
      ]
     },
     "execution_count": 28,
     "metadata": {},
     "output_type": "execute_result"
    },
    {
     "data": {
      "image/png": "[encoded data removed]",
      "text/plain": [
       "<Figure size 720x432 with 1 Axes>"
      ]
     },
     "metadata": {
      "needs_background": "light"
     },
     "output_type": "display_data"
    }
   ],
   "source": [
    "# plot a single day\n",
    "test_date = '2021-03-25'\n",
    "# len(hr[hr.date == test_date])\n",
    "# TODO: Fix Axis for Hour of Day or Something Similar\n",
    "hr[hr.date == test_date].plot(x='startDate', y='value', title= 'Heart Rate', figsize=[10, 6])"
   ]
  },
  {
   "cell_type": "markdown",
   "metadata": {},
   "source": [
    "# Sleep"
   ]
  },
  {
   "cell_type": "code",
   "execution_count": 29,
   "metadata": {},
   "outputs": [],
   "source": [
    "sleep_raw = pd.read_csv(\"data/SleepAnalysis.csv\")"
   ]
  },
  {
   "cell_type": "code",
   "execution_count": 30,
   "metadata": {},
   "outputs": [
    {
     "data": {
      "text/html": [
       "<div>\n",
       "<style scoped>\n",
       "    .dataframe tbody tr th:only-of-type {\n",
       "        vertical-align: middle;\n",
       "    }\n",
       "\n",
       "    .dataframe tbody tr th {\n",
       "        vertical-align: top;\n",
       "    }\n",
       "\n",
       "    .dataframe thead th {\n",
       "        text-align: right;\n",
       "    }\n",
       "</style>\n",
       "<table border=\"1\" class=\"dataframe\">\n",
       "  <thead>\n",
       "    <tr style=\"text-align: right;\">\n",
       "      <th></th>\n",
       "      <th>sourceName</th>\n",
       "      <th>sourceVersion</th>\n",
       "      <th>device</th>\n",
       "      <th>type</th>\n",
       "      <th>unit</th>\n",
       "      <th>creationDate</th>\n",
       "      <th>startDate</th>\n",
       "      <th>endDate</th>\n",
       "      <th>value</th>\n",
       "    </tr>\n",
       "  </thead>\n",
       "  <tbody>\n",
       "    <tr>\n",
       "      <th>77</th>\n",
       "      <td>Seshathiri’s Apple Watch</td>\n",
       "      <td>7.1</td>\n",
       "      <td>NaN</td>\n",
       "      <td>SleepAnalysis</td>\n",
       "      <td>NaN</td>\n",
       "      <td>2020-12-03 12:55:28 +0530</td>\n",
       "      <td>2020-12-03 08:12:09 +0530</td>\n",
       "      <td>2020-12-03 08:47:09 +0530</td>\n",
       "      <td>HKCategoryValueSleepAnalysisAsleep</td>\n",
       "    </tr>\n",
       "    <tr>\n",
       "      <th>78</th>\n",
       "      <td>Seshathiri’s Apple Watch</td>\n",
       "      <td>7.1</td>\n",
       "      <td>NaN</td>\n",
       "      <td>SleepAnalysis</td>\n",
       "      <td>NaN</td>\n",
       "      <td>2020-12-03 12:55:28 +0530</td>\n",
       "      <td>2020-12-03 08:50:39 +0530</td>\n",
       "      <td>2020-12-03 11:56:09 +0530</td>\n",
       "      <td>HKCategoryValueSleepAnalysisAsleep</td>\n",
       "    </tr>\n",
       "    <tr>\n",
       "      <th>79</th>\n",
       "      <td>Seshathiri’s Apple Watch</td>\n",
       "      <td>7.1</td>\n",
       "      <td>NaN</td>\n",
       "      <td>SleepAnalysis</td>\n",
       "      <td>NaN</td>\n",
       "      <td>2020-12-03 12:55:28 +0530</td>\n",
       "      <td>2020-12-03 11:58:39 +0530</td>\n",
       "      <td>2020-12-03 12:39:39 +0530</td>\n",
       "      <td>HKCategoryValueSleepAnalysisAsleep</td>\n",
       "    </tr>\n",
       "    <tr>\n",
       "      <th>80</th>\n",
       "      <td>Seshathiri’s iPhone</td>\n",
       "      <td>14.2</td>\n",
       "      <td>NaN</td>\n",
       "      <td>SleepAnalysis</td>\n",
       "      <td>NaN</td>\n",
       "      <td>2020-12-03 12:40:00 +0530</td>\n",
       "      <td>2020-12-03 06:40:12 +0530</td>\n",
       "      <td>2020-12-03 12:40:00 +0530</td>\n",
       "      <td>HKCategoryValueSleepAnalysisInBed</td>\n",
       "    </tr>\n",
       "    <tr>\n",
       "      <th>81</th>\n",
       "      <td>Seshathiri’s iPhone</td>\n",
       "      <td>14.2</td>\n",
       "      <td>NaN</td>\n",
       "      <td>SleepAnalysis</td>\n",
       "      <td>NaN</td>\n",
       "      <td>2020-12-04 11:30:00 +0530</td>\n",
       "      <td>2020-12-04 02:09:07 +0530</td>\n",
       "      <td>2020-12-04 11:30:00 +0530</td>\n",
       "      <td>HKCategoryValueSleepAnalysisInBed</td>\n",
       "    </tr>\n",
       "  </tbody>\n",
       "</table>\n",
       "</div>"
      ],
      "text/plain": [
       "                  sourceName sourceVersion device           type  unit  \\\n",
       "77  Seshathiri’s Apple Watch           7.1    NaN  SleepAnalysis   NaN   \n",
       "78  Seshathiri’s Apple Watch           7.1    NaN  SleepAnalysis   NaN   \n",
       "79  Seshathiri’s Apple Watch           7.1    NaN  SleepAnalysis   NaN   \n",
       "80       Seshathiri’s iPhone          14.2    NaN  SleepAnalysis   NaN   \n",
       "81       Seshathiri’s iPhone          14.2    NaN  SleepAnalysis   NaN   \n",
       "\n",
       "                 creationDate                  startDate  \\\n",
       "77  2020-12-03 12:55:28 +0530  2020-12-03 08:12:09 +0530   \n",
       "78  2020-12-03 12:55:28 +0530  2020-12-03 08:50:39 +0530   \n",
       "79  2020-12-03 12:55:28 +0530  2020-12-03 11:58:39 +0530   \n",
       "80  2020-12-03 12:40:00 +0530  2020-12-03 06:40:12 +0530   \n",
       "81  2020-12-04 11:30:00 +0530  2020-12-04 02:09:07 +0530   \n",
       "\n",
       "                      endDate                               value  \n",
       "77  2020-12-03 08:47:09 +0530  HKCategoryValueSleepAnalysisAsleep  \n",
       "78  2020-12-03 11:56:09 +0530  HKCategoryValueSleepAnalysisAsleep  \n",
       "79  2020-12-03 12:39:39 +0530  HKCategoryValueSleepAnalysisAsleep  \n",
       "80  2020-12-03 12:40:00 +0530   HKCategoryValueSleepAnalysisInBed  \n",
       "81  2020-12-04 11:30:00 +0530   HKCategoryValueSleepAnalysisInBed  "
      ]
     },
     "execution_count": 30,
     "metadata": {},
     "output_type": "execute_result"
    }
   ],
   "source": [
    "sleep_raw.tail()"
   ]
  },
  {
   "cell_type": "code",
   "execution_count": 31,
   "metadata": {},
   "outputs": [],
   "source": [
    "# parse out date and time elements as Oslo time\n",
    "steps['startDate'] = pd.to_datetime(steps['startDate'])\n",
    "steps['year'] = steps['startDate'].map(get_year)\n",
    "steps['month'] = steps['startDate'].map(get_month)\n",
    "steps['date'] = steps['startDate'].map(get_date)\n",
    "steps['day'] = steps['startDate'].map(get_day)\n",
    "steps['hour'] = steps['startDate'].map(get_hour)\n",
    "steps['dow'] = steps['startDate'].map(get_day_of_week)"
   ]
  },
  {
   "cell_type": "code",
   "execution_count": null,
   "metadata": {},
   "outputs": [],
   "source": []
  }
 ],
 "metadata": {
  "kernelspec": {
   "display_name": "Python 3",
   "language": "python",
   "name": "python3"
  },
  "language_info": {
   "codemirror_mode": {
    "name": "ipython",
    "version": 3
   },
   "file_extension": ".py",
   "mimetype": "text/x-python",
   "name": "python",
   "nbconvert_exporter": "python",
   "pygments_lexer": "ipython3",
   "version": "3.7.5"
  }
 },
 "nbformat": 4,
 "nbformat_minor": 2
}
